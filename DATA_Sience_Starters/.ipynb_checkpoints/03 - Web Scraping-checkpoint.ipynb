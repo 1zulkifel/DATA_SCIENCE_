{
 "cells": [
  {
   "cell_type": "markdown",
   "metadata": {},
   "source": [
    "# Web Scraping"
   ]
  },
  {
   "cell_type": "markdown",
   "metadata": {},
   "source": [
    "![Data Science Workflow](DSworkflow.png)"
   ]
  },
  {
   "cell_type": "markdown",
   "metadata": {},
   "source": [
    "## Acquire Data\n",
    "### Common Data Sources\n",
    "- **The Internet - Web Scraping**\n",
    "- Databasis\n",
    "- CSV\n",
    "- Excel\n",
    "- Parquet"
   ]
  },
  {
   "cell_type": "markdown",
   "metadata": {},
   "source": [
    "### Web Scraping\n",
    "- Extracting data from websites\n",
    "- Leagal issues: [wikipedia.org](https://en.wikipedia.org/wiki/Web_scraping#Legal_issues)\n",
    "- The legality of web scraping varies across the world.\n",
    "- In general, web scraping may be against the terms of use of some websites, but the enforceability of these terms is unclear."
   ]
  },
  {
   "cell_type": "markdown",
   "metadata": {},
   "source": [
    "### Be ethical\n",
    "- Not for commercial use\n",
    "- Only private use"
   ]
  },
  {
   "cell_type": "markdown",
   "metadata": {},
   "source": [
    "## Example\n",
    "- Let's consider [https://en.wikipedia.org/wiki/Wikipedia:Fundraising_statistics](https://en.wikipedia.org/wiki/Wikipedia:Fundraising_statistics)\n",
    "- **pandas** ```.read_html(.)``` Read HTML tables into a list of DataFrame objects ([docs](https://pandas.pydata.org/docs/reference/api/pandas.read_html.html))."
   ]
  },
  {
   "cell_type": "code",
   "execution_count": 2,
   "metadata": {},
   "outputs": [],
   "source": [
    "import pandas as pd"
   ]
  },
  {
   "cell_type": "code",
   "execution_count": 65,
   "metadata": {},
   "outputs": [],
   "source": [
    "url='https://en.wikipedia.org/wiki/Wikipedia:Fundraising_statistics'\n",
    "data=pd.read_html(url)"
   ]
  },
  {
   "cell_type": "code",
   "execution_count": 66,
   "metadata": {},
   "outputs": [
    {
     "data": {
      "text/plain": [
       "pandas.core.frame.DataFrame"
      ]
     },
     "execution_count": 66,
     "metadata": {},
     "output_type": "execute_result"
    }
   ],
   "source": [
    "type(data[0])"
   ]
  },
  {
   "cell_type": "code",
   "execution_count": 67,
   "metadata": {},
   "outputs": [
    {
     "data": {
      "text/html": [
       "<div>\n",
       "<style scoped>\n",
       "    .dataframe tbody tr th:only-of-type {\n",
       "        vertical-align: middle;\n",
       "    }\n",
       "\n",
       "    .dataframe tbody tr th {\n",
       "        vertical-align: top;\n",
       "    }\n",
       "\n",
       "    .dataframe thead th {\n",
       "        text-align: right;\n",
       "    }\n",
       "</style>\n",
       "<table border=\"1\" class=\"dataframe\">\n",
       "  <thead>\n",
       "    <tr style=\"text-align: right;\">\n",
       "      <th></th>\n",
       "      <th>Year</th>\n",
       "      <th>Source</th>\n",
       "      <th>Revenue</th>\n",
       "      <th>Expenses</th>\n",
       "      <th>Asset rise</th>\n",
       "      <th>Total assets</th>\n",
       "    </tr>\n",
       "  </thead>\n",
       "  <tbody>\n",
       "    <tr>\n",
       "      <td>0</td>\n",
       "      <td>2020/21</td>\n",
       "      <td>PDF</td>\n",
       "      <td>$ 162,886,686</td>\n",
       "      <td>$ 111,839,819</td>\n",
       "      <td>$ 50,861,811</td>\n",
       "      <td>$ 231,177,536</td>\n",
       "    </tr>\n",
       "    <tr>\n",
       "      <td>1</td>\n",
       "      <td>2019/20</td>\n",
       "      <td>PDF</td>\n",
       "      <td>$ 129,234,327</td>\n",
       "      <td>$ 112,489,397</td>\n",
       "      <td>$ 14,674,300</td>\n",
       "      <td>$ 180,315,725</td>\n",
       "    </tr>\n",
       "    <tr>\n",
       "      <td>2</td>\n",
       "      <td>2018/19</td>\n",
       "      <td>PDF</td>\n",
       "      <td>$ 120,067,266</td>\n",
       "      <td>$ 91,414,010</td>\n",
       "      <td>$ 30,691,855</td>\n",
       "      <td>$ 165,641,425</td>\n",
       "    </tr>\n",
       "    <tr>\n",
       "      <td>3</td>\n",
       "      <td>2017/18</td>\n",
       "      <td>PDF</td>\n",
       "      <td>$ 104,505,783</td>\n",
       "      <td>$ 81,442,265</td>\n",
       "      <td>$ 21,619,373</td>\n",
       "      <td>$ 134,949,570</td>\n",
       "    </tr>\n",
       "    <tr>\n",
       "      <td>4</td>\n",
       "      <td>2016/17</td>\n",
       "      <td>PDF</td>\n",
       "      <td>$ 91,242,418</td>\n",
       "      <td>$ 69,136,758</td>\n",
       "      <td>$ 21,547,402</td>\n",
       "      <td>$ 113,330,197</td>\n",
       "    </tr>\n",
       "  </tbody>\n",
       "</table>\n",
       "</div>"
      ],
      "text/plain": [
       "      Year Source        Revenue       Expenses    Asset rise   Total assets\n",
       "0  2020/21    PDF  $ 162,886,686  $ 111,839,819  $ 50,861,811  $ 231,177,536\n",
       "1  2019/20    PDF  $ 129,234,327  $ 112,489,397  $ 14,674,300  $ 180,315,725\n",
       "2  2018/19    PDF  $ 120,067,266   $ 91,414,010  $ 30,691,855  $ 165,641,425\n",
       "3  2017/18    PDF  $ 104,505,783   $ 81,442,265  $ 21,619,373  $ 134,949,570\n",
       "4  2016/17    PDF   $ 91,242,418   $ 69,136,758  $ 21,547,402  $ 113,330,197"
      ]
     },
     "execution_count": 67,
     "metadata": {},
     "output_type": "execute_result"
    }
   ],
   "source": [
    "data[0].head()"
   ]
  },
  {
   "cell_type": "code",
   "execution_count": 68,
   "metadata": {},
   "outputs": [],
   "source": [
    "fundrising=data[0]"
   ]
  },
  {
   "cell_type": "code",
   "execution_count": 69,
   "metadata": {},
   "outputs": [
    {
     "data": {
      "text/plain": [
       "Year            object\n",
       "Source          object\n",
       "Revenue         object\n",
       "Expenses        object\n",
       "Asset rise      object\n",
       "Total assets    object\n",
       "dtype: object"
      ]
     },
     "execution_count": 69,
     "metadata": {},
     "output_type": "execute_result"
    }
   ],
   "source": [
    "fundrising.dtypes"
   ]
  },
  {
   "cell_type": "markdown",
   "metadata": {},
   "source": [
    "## Data Wrangling\n",
    "- Data wrangling (data munging): transforming and mapping data from one \"raw\" data form into another format\n",
    "- With the intent of making it more appropriate and valuable for a variety of downstream purposes such as analytics"
   ]
  },
  {
   "cell_type": "code",
   "execution_count": 70,
   "metadata": {},
   "outputs": [],
   "source": [
    "fundrising['Revenue_']=fundrising['Revenue'].str[2:]\n",
    "fundrising['Revenue_']=fundrising['Revenue_'].str.replace(',','')\n",
    "fundrising['Expenses_']=fundrising['Expenses'].str[2:]\n",
    "fundrising['Expenses_']=fundrising['Expenses_'].str.replace(',','')\n",
    "fundrising['Asset_rise']=fundrising['Asset rise'].str[2:]\n",
    "fundrising['Asset_rise']=fundrising['Asset_rise'].str.replace(',','')\n",
    "fundrising['Total_assets']=fundrising['Total assets'].str[2:]\n",
    "fundrising['Total_assets']=fundrising['Total_assets'].str.replace(',','')\n"
   ]
  },
  {
   "cell_type": "code",
   "execution_count": 71,
   "metadata": {},
   "outputs": [
    {
     "data": {
      "text/html": [
       "<div>\n",
       "<style scoped>\n",
       "    .dataframe tbody tr th:only-of-type {\n",
       "        vertical-align: middle;\n",
       "    }\n",
       "\n",
       "    .dataframe tbody tr th {\n",
       "        vertical-align: top;\n",
       "    }\n",
       "\n",
       "    .dataframe thead th {\n",
       "        text-align: right;\n",
       "    }\n",
       "</style>\n",
       "<table border=\"1\" class=\"dataframe\">\n",
       "  <thead>\n",
       "    <tr style=\"text-align: right;\">\n",
       "      <th></th>\n",
       "      <th>Year</th>\n",
       "      <th>Source</th>\n",
       "      <th>Revenue</th>\n",
       "      <th>Expenses</th>\n",
       "      <th>Asset rise</th>\n",
       "      <th>Total assets</th>\n",
       "      <th>Revenue_</th>\n",
       "      <th>Expenses_</th>\n",
       "      <th>Asset_rise</th>\n",
       "      <th>Total_assets</th>\n",
       "    </tr>\n",
       "  </thead>\n",
       "  <tbody>\n",
       "    <tr>\n",
       "      <td>0</td>\n",
       "      <td>2020/21</td>\n",
       "      <td>PDF</td>\n",
       "      <td>$ 162,886,686</td>\n",
       "      <td>$ 111,839,819</td>\n",
       "      <td>$ 50,861,811</td>\n",
       "      <td>$ 231,177,536</td>\n",
       "      <td>162886686</td>\n",
       "      <td>111839819</td>\n",
       "      <td>50861811</td>\n",
       "      <td>231177536</td>\n",
       "    </tr>\n",
       "    <tr>\n",
       "      <td>1</td>\n",
       "      <td>2019/20</td>\n",
       "      <td>PDF</td>\n",
       "      <td>$ 129,234,327</td>\n",
       "      <td>$ 112,489,397</td>\n",
       "      <td>$ 14,674,300</td>\n",
       "      <td>$ 180,315,725</td>\n",
       "      <td>129234327</td>\n",
       "      <td>112489397</td>\n",
       "      <td>14674300</td>\n",
       "      <td>180315725</td>\n",
       "    </tr>\n",
       "    <tr>\n",
       "      <td>2</td>\n",
       "      <td>2018/19</td>\n",
       "      <td>PDF</td>\n",
       "      <td>$ 120,067,266</td>\n",
       "      <td>$ 91,414,010</td>\n",
       "      <td>$ 30,691,855</td>\n",
       "      <td>$ 165,641,425</td>\n",
       "      <td>120067266</td>\n",
       "      <td>91414010</td>\n",
       "      <td>30691855</td>\n",
       "      <td>165641425</td>\n",
       "    </tr>\n",
       "    <tr>\n",
       "      <td>3</td>\n",
       "      <td>2017/18</td>\n",
       "      <td>PDF</td>\n",
       "      <td>$ 104,505,783</td>\n",
       "      <td>$ 81,442,265</td>\n",
       "      <td>$ 21,619,373</td>\n",
       "      <td>$ 134,949,570</td>\n",
       "      <td>104505783</td>\n",
       "      <td>81442265</td>\n",
       "      <td>21619373</td>\n",
       "      <td>134949570</td>\n",
       "    </tr>\n",
       "    <tr>\n",
       "      <td>4</td>\n",
       "      <td>2016/17</td>\n",
       "      <td>PDF</td>\n",
       "      <td>$ 91,242,418</td>\n",
       "      <td>$ 69,136,758</td>\n",
       "      <td>$ 21,547,402</td>\n",
       "      <td>$ 113,330,197</td>\n",
       "      <td>91242418</td>\n",
       "      <td>69136758</td>\n",
       "      <td>21547402</td>\n",
       "      <td>113330197</td>\n",
       "    </tr>\n",
       "  </tbody>\n",
       "</table>\n",
       "</div>"
      ],
      "text/plain": [
       "      Year Source        Revenue       Expenses    Asset rise   Total assets  \\\n",
       "0  2020/21    PDF  $ 162,886,686  $ 111,839,819  $ 50,861,811  $ 231,177,536   \n",
       "1  2019/20    PDF  $ 129,234,327  $ 112,489,397  $ 14,674,300  $ 180,315,725   \n",
       "2  2018/19    PDF  $ 120,067,266   $ 91,414,010  $ 30,691,855  $ 165,641,425   \n",
       "3  2017/18    PDF  $ 104,505,783   $ 81,442,265  $ 21,619,373  $ 134,949,570   \n",
       "4  2016/17    PDF   $ 91,242,418   $ 69,136,758  $ 21,547,402  $ 113,330,197   \n",
       "\n",
       "    Revenue_  Expenses_ Asset_rise Total_assets  \n",
       "0  162886686  111839819   50861811    231177536  \n",
       "1  129234327  112489397   14674300    180315725  \n",
       "2  120067266   91414010   30691855    165641425  \n",
       "3  104505783   81442265   21619373    134949570  \n",
       "4   91242418   69136758   21547402    113330197  "
      ]
     },
     "execution_count": 71,
     "metadata": {},
     "output_type": "execute_result"
    }
   ],
   "source": [
    "fundrising.head()"
   ]
  },
  {
   "cell_type": "markdown",
   "metadata": {},
   "source": [
    "### Check the data types\n",
    "- Remember ```.dtypes```"
   ]
  },
  {
   "cell_type": "code",
   "execution_count": 73,
   "metadata": {},
   "outputs": [
    {
     "data": {
      "text/html": [
       "<div>\n",
       "<style scoped>\n",
       "    .dataframe tbody tr th:only-of-type {\n",
       "        vertical-align: middle;\n",
       "    }\n",
       "\n",
       "    .dataframe tbody tr th {\n",
       "        vertical-align: top;\n",
       "    }\n",
       "\n",
       "    .dataframe thead th {\n",
       "        text-align: right;\n",
       "    }\n",
       "</style>\n",
       "<table border=\"1\" class=\"dataframe\">\n",
       "  <thead>\n",
       "    <tr style=\"text-align: right;\">\n",
       "      <th></th>\n",
       "      <th>Year</th>\n",
       "      <th>Source</th>\n",
       "      <th>Revenue_</th>\n",
       "      <th>Expenses_</th>\n",
       "      <th>Asset_rise</th>\n",
       "      <th>Total_assets</th>\n",
       "    </tr>\n",
       "  </thead>\n",
       "  <tbody>\n",
       "    <tr>\n",
       "      <td>0</td>\n",
       "      <td>2020/21</td>\n",
       "      <td>PDF</td>\n",
       "      <td>162886686</td>\n",
       "      <td>111839819</td>\n",
       "      <td>50861811</td>\n",
       "      <td>231177536</td>\n",
       "    </tr>\n",
       "    <tr>\n",
       "      <td>1</td>\n",
       "      <td>2019/20</td>\n",
       "      <td>PDF</td>\n",
       "      <td>129234327</td>\n",
       "      <td>112489397</td>\n",
       "      <td>14674300</td>\n",
       "      <td>180315725</td>\n",
       "    </tr>\n",
       "    <tr>\n",
       "      <td>2</td>\n",
       "      <td>2018/19</td>\n",
       "      <td>PDF</td>\n",
       "      <td>120067266</td>\n",
       "      <td>91414010</td>\n",
       "      <td>30691855</td>\n",
       "      <td>165641425</td>\n",
       "    </tr>\n",
       "    <tr>\n",
       "      <td>3</td>\n",
       "      <td>2017/18</td>\n",
       "      <td>PDF</td>\n",
       "      <td>104505783</td>\n",
       "      <td>81442265</td>\n",
       "      <td>21619373</td>\n",
       "      <td>134949570</td>\n",
       "    </tr>\n",
       "    <tr>\n",
       "      <td>4</td>\n",
       "      <td>2016/17</td>\n",
       "      <td>PDF</td>\n",
       "      <td>91242418</td>\n",
       "      <td>69136758</td>\n",
       "      <td>21547402</td>\n",
       "      <td>113330197</td>\n",
       "    </tr>\n",
       "    <tr>\n",
       "      <td>5</td>\n",
       "      <td>2015/16</td>\n",
       "      <td>PDF</td>\n",
       "      <td>81862724</td>\n",
       "      <td>65947465</td>\n",
       "      <td>13962497</td>\n",
       "      <td>91782795</td>\n",
       "    </tr>\n",
       "    <tr>\n",
       "      <td>6</td>\n",
       "      <td>2014/15</td>\n",
       "      <td>PDF</td>\n",
       "      <td>75797223</td>\n",
       "      <td>52596782</td>\n",
       "      <td>24345277</td>\n",
       "      <td>77820298</td>\n",
       "    </tr>\n",
       "    <tr>\n",
       "      <td>7</td>\n",
       "      <td>2013/14</td>\n",
       "      <td>PDF</td>\n",
       "      <td>52465287</td>\n",
       "      <td>45900745</td>\n",
       "      <td>8285897</td>\n",
       "      <td>53475021</td>\n",
       "    </tr>\n",
       "    <tr>\n",
       "      <td>8</td>\n",
       "      <td>2012/13</td>\n",
       "      <td>PDF</td>\n",
       "      <td>48635408</td>\n",
       "      <td>35704796</td>\n",
       "      <td>10260066</td>\n",
       "      <td>45189124</td>\n",
       "    </tr>\n",
       "    <tr>\n",
       "      <td>9</td>\n",
       "      <td>2011/12</td>\n",
       "      <td>PDF</td>\n",
       "      <td>38479665</td>\n",
       "      <td>29260652</td>\n",
       "      <td>10736914</td>\n",
       "      <td>34929058</td>\n",
       "    </tr>\n",
       "    <tr>\n",
       "      <td>10</td>\n",
       "      <td>2010/11</td>\n",
       "      <td>PDF</td>\n",
       "      <td>24785092</td>\n",
       "      <td>17889794</td>\n",
       "      <td>9649413</td>\n",
       "      <td>24192144</td>\n",
       "    </tr>\n",
       "    <tr>\n",
       "      <td>11</td>\n",
       "      <td>2009/10</td>\n",
       "      <td>PDF</td>\n",
       "      <td>17979312</td>\n",
       "      <td>10266793</td>\n",
       "      <td>6310964</td>\n",
       "      <td>14542731</td>\n",
       "    </tr>\n",
       "    <tr>\n",
       "      <td>12</td>\n",
       "      <td>2008/09</td>\n",
       "      <td>PDF</td>\n",
       "      <td>8658006</td>\n",
       "      <td>5617236</td>\n",
       "      <td>3053599</td>\n",
       "      <td>8231767</td>\n",
       "    </tr>\n",
       "    <tr>\n",
       "      <td>13</td>\n",
       "      <td>2007/08</td>\n",
       "      <td>PDF</td>\n",
       "      <td>5032981</td>\n",
       "      <td>3540724</td>\n",
       "      <td>3519886</td>\n",
       "      <td>5178168</td>\n",
       "    </tr>\n",
       "    <tr>\n",
       "      <td>14</td>\n",
       "      <td>2006/07</td>\n",
       "      <td>PDF</td>\n",
       "      <td>2734909</td>\n",
       "      <td>2077843</td>\n",
       "      <td>654066</td>\n",
       "      <td>1658282</td>\n",
       "    </tr>\n",
       "    <tr>\n",
       "      <td>15</td>\n",
       "      <td>2005/06</td>\n",
       "      <td>PDF</td>\n",
       "      <td>1508039</td>\n",
       "      <td>791907</td>\n",
       "      <td>736132</td>\n",
       "      <td>1004216</td>\n",
       "    </tr>\n",
       "    <tr>\n",
       "      <td>16</td>\n",
       "      <td>2004/05</td>\n",
       "      <td>PDF</td>\n",
       "      <td>379088</td>\n",
       "      <td>177670</td>\n",
       "      <td>211418</td>\n",
       "      <td>268084</td>\n",
       "    </tr>\n",
       "    <tr>\n",
       "      <td>17</td>\n",
       "      <td>2003/04</td>\n",
       "      <td>PDF</td>\n",
       "      <td>80129</td>\n",
       "      <td>23463</td>\n",
       "      <td>56666</td>\n",
       "      <td>56666</td>\n",
       "    </tr>\n",
       "  </tbody>\n",
       "</table>\n",
       "</div>"
      ],
      "text/plain": [
       "       Year Source   Revenue_  Expenses_ Asset_rise Total_assets\n",
       "0   2020/21    PDF  162886686  111839819   50861811    231177536\n",
       "1   2019/20    PDF  129234327  112489397   14674300    180315725\n",
       "2   2018/19    PDF  120067266   91414010   30691855    165641425\n",
       "3   2017/18    PDF  104505783   81442265   21619373    134949570\n",
       "4   2016/17    PDF   91242418   69136758   21547402    113330197\n",
       "5   2015/16    PDF   81862724   65947465   13962497     91782795\n",
       "6   2014/15    PDF   75797223   52596782   24345277     77820298\n",
       "7   2013/14    PDF   52465287   45900745    8285897     53475021\n",
       "8   2012/13    PDF   48635408   35704796   10260066     45189124\n",
       "9   2011/12    PDF   38479665   29260652   10736914     34929058\n",
       "10  2010/11    PDF   24785092   17889794    9649413     24192144\n",
       "11  2009/10    PDF   17979312   10266793    6310964     14542731\n",
       "12  2008/09    PDF    8658006    5617236    3053599      8231767\n",
       "13  2007/08    PDF    5032981    3540724    3519886      5178168\n",
       "14  2006/07    PDF    2734909    2077843     654066      1658282\n",
       "15  2005/06    PDF    1508039     791907     736132      1004216\n",
       "16  2004/05    PDF     379088     177670     211418       268084\n",
       "17  2003/04    PDF      80129      23463      56666        56666"
      ]
     },
     "execution_count": 73,
     "metadata": {},
     "output_type": "execute_result"
    }
   ],
   "source": [
    "fundrising.drop(columns=['Revenue','Expenses','Asset rise','Total assets'],axis=1,inplace=False)"
   ]
  },
  {
   "cell_type": "code",
   "execution_count": 77,
   "metadata": {},
   "outputs": [],
   "source": [
    "#fundrising['Year']=fundrising['Year'].astype('datetime64[ns]')"
   ]
  },
  {
   "cell_type": "code",
   "execution_count": 80,
   "metadata": {},
   "outputs": [],
   "source": [
    "#fundrising['Year'] = fundrising['Year'].astype(str).astype(int)"
   ]
  },
  {
   "cell_type": "code",
   "execution_count": null,
   "metadata": {},
   "outputs": [],
   "source": []
  },
  {
   "cell_type": "code",
   "execution_count": null,
   "metadata": {},
   "outputs": [],
   "source": []
  },
  {
   "cell_type": "code",
   "execution_count": null,
   "metadata": {},
   "outputs": [],
   "source": []
  },
  {
   "cell_type": "code",
   "execution_count": null,
   "metadata": {},
   "outputs": [],
   "source": []
  },
  {
   "cell_type": "code",
   "execution_count": null,
   "metadata": {},
   "outputs": [],
   "source": []
  },
  {
   "cell_type": "code",
   "execution_count": null,
   "metadata": {},
   "outputs": [],
   "source": []
  }
 ],
 "metadata": {
  "kernelspec": {
   "display_name": "Python 3",
   "language": "python",
   "name": "python3"
  },
  "language_info": {
   "codemirror_mode": {
    "name": "ipython",
    "version": 3
   },
   "file_extension": ".py",
   "mimetype": "text/x-python",
   "name": "python",
   "nbconvert_exporter": "python",
   "pygments_lexer": "ipython3",
   "version": "3.7.4"
  }
 },
 "nbformat": 4,
 "nbformat_minor": 5
}
