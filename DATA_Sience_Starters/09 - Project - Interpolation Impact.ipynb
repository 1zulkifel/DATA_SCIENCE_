{
 "cells": [
  {
   "cell_type": "markdown",
   "metadata": {},
   "source": [
    "# Project - Measure Interpolation Impact"
   ]
  },
  {
   "cell_type": "markdown",
   "metadata": {},
   "source": [
    "![Data Science Workflow](files/img/DSworkflow.png)"
   ]
  },
  {
   "cell_type": "markdown",
   "metadata": {},
   "source": [
    "## Goal of Project\n",
    "- The goal of the project is to see how big impact interpolation can have on results.\n",
    "- The focus is mainly on step 2.\n",
    "- To see the impact we will make simple model usages.\n",
    "- The project will not go into details of steps 3 to 5."
   ]
  },
  {
   "cell_type": "markdown",
   "metadata": {},
   "source": [
    "## Step 1: Acquire\n",
    "- Explore problem\n",
    "- Identify data\n",
    "- Import data"
   ]
  },
  {
   "cell_type": "markdown",
   "metadata": {},
   "source": [
    "### Step 1.a: Import libraries\n",
    "- Execute the cell below (SHIFT + ENTER)"
   ]
  },
  {
   "cell_type": "code",
   "execution_count": 1,
   "metadata": {},
   "outputs": [],
   "source": [
    "import pandas as pd\n",
    "import numpy as np\n",
    "from sklearn.linear_model import LinearRegression\n",
    "from sklearn.model_selection import train_test_split\n",
    "from sklearn.metrics import r2_score\n",
    "import matplotlib.pyplot as plt\n",
    "%matplotlib inline"
   ]
  },
  {
   "cell_type": "markdown",
   "metadata": {},
   "source": [
    "### Step 1.b: Read the data\n",
    "- Use ```pd.read_parquet()``` to read the file `files/weather-predict.parquet`\n",
    "- NOTE: Remember to assign the result to a variable (e.g., ```data```)\n",
    "- Apply ```.head()``` on the data to see all is as expected"
   ]
  },
  {
   "cell_type": "code",
   "execution_count": 4,
   "metadata": {},
   "outputs": [],
   "source": [
    "data=pd.read_parquet('files/weather-predict.parquet')"
   ]
  },
  {
   "cell_type": "code",
   "execution_count": 5,
   "metadata": {},
   "outputs": [
    {
     "data": {
      "text/html": [
       "<div>\n",
       "<style scoped>\n",
       "    .dataframe tbody tr th:only-of-type {\n",
       "        vertical-align: middle;\n",
       "    }\n",
       "\n",
       "    .dataframe tbody tr th {\n",
       "        vertical-align: top;\n",
       "    }\n",
       "\n",
       "    .dataframe thead th {\n",
       "        text-align: right;\n",
       "    }\n",
       "</style>\n",
       "<table border=\"1\" class=\"dataframe\">\n",
       "  <thead>\n",
       "    <tr style=\"text-align: right;\">\n",
       "      <th></th>\n",
       "      <th>Pressure</th>\n",
       "      <th>Pressure+24h</th>\n",
       "    </tr>\n",
       "    <tr>\n",
       "      <th>Datetime</th>\n",
       "      <th></th>\n",
       "      <th></th>\n",
       "    </tr>\n",
       "  </thead>\n",
       "  <tbody>\n",
       "    <tr>\n",
       "      <td>2006-04-01 00:00:00</td>\n",
       "      <td>1015.13</td>\n",
       "      <td>1015.68</td>\n",
       "    </tr>\n",
       "    <tr>\n",
       "      <td>2006-04-01 01:00:00</td>\n",
       "      <td>1015.63</td>\n",
       "      <td>1015.41</td>\n",
       "    </tr>\n",
       "    <tr>\n",
       "      <td>2006-04-01 02:00:00</td>\n",
       "      <td>1015.94</td>\n",
       "      <td>1014.98</td>\n",
       "    </tr>\n",
       "    <tr>\n",
       "      <td>2006-04-01 03:00:00</td>\n",
       "      <td>1016.41</td>\n",
       "      <td>1015.18</td>\n",
       "    </tr>\n",
       "    <tr>\n",
       "      <td>2006-04-01 04:00:00</td>\n",
       "      <td>1016.51</td>\n",
       "      <td>1014.70</td>\n",
       "    </tr>\n",
       "    <tr>\n",
       "      <td>...</td>\n",
       "      <td>...</td>\n",
       "      <td>...</td>\n",
       "    </tr>\n",
       "    <tr>\n",
       "      <td>2016-09-09 19:00:00</td>\n",
       "      <td>1014.36</td>\n",
       "      <td>1014.93</td>\n",
       "    </tr>\n",
       "    <tr>\n",
       "      <td>2016-09-09 20:00:00</td>\n",
       "      <td>1015.16</td>\n",
       "      <td>1015.52</td>\n",
       "    </tr>\n",
       "    <tr>\n",
       "      <td>2016-09-09 21:00:00</td>\n",
       "      <td>1015.66</td>\n",
       "      <td>1015.86</td>\n",
       "    </tr>\n",
       "    <tr>\n",
       "      <td>2016-09-09 22:00:00</td>\n",
       "      <td>1015.95</td>\n",
       "      <td>1016.04</td>\n",
       "    </tr>\n",
       "    <tr>\n",
       "      <td>2016-09-09 23:00:00</td>\n",
       "      <td>1016.16</td>\n",
       "      <td>1016.14</td>\n",
       "    </tr>\n",
       "  </tbody>\n",
       "</table>\n",
       "<p>96418 rows × 2 columns</p>\n",
       "</div>"
      ],
      "text/plain": [
       "                     Pressure  Pressure+24h\n",
       "Datetime                                   \n",
       "2006-04-01 00:00:00   1015.13       1015.68\n",
       "2006-04-01 01:00:00   1015.63       1015.41\n",
       "2006-04-01 02:00:00   1015.94       1014.98\n",
       "2006-04-01 03:00:00   1016.41       1015.18\n",
       "2006-04-01 04:00:00   1016.51       1014.70\n",
       "...                       ...           ...\n",
       "2016-09-09 19:00:00   1014.36       1014.93\n",
       "2016-09-09 20:00:00   1015.16       1015.52\n",
       "2016-09-09 21:00:00   1015.66       1015.86\n",
       "2016-09-09 22:00:00   1015.95       1016.04\n",
       "2016-09-09 23:00:00   1016.16       1016.14\n",
       "\n",
       "[96418 rows x 2 columns]"
      ]
     },
     "execution_count": 5,
     "metadata": {},
     "output_type": "execute_result"
    }
   ],
   "source": [
    "data"
   ]
  },
  {
   "cell_type": "code",
   "execution_count": 6,
   "metadata": {},
   "outputs": [
    {
     "data": {
      "text/html": [
       "<div>\n",
       "<style scoped>\n",
       "    .dataframe tbody tr th:only-of-type {\n",
       "        vertical-align: middle;\n",
       "    }\n",
       "\n",
       "    .dataframe tbody tr th {\n",
       "        vertical-align: top;\n",
       "    }\n",
       "\n",
       "    .dataframe thead th {\n",
       "        text-align: right;\n",
       "    }\n",
       "</style>\n",
       "<table border=\"1\" class=\"dataframe\">\n",
       "  <thead>\n",
       "    <tr style=\"text-align: right;\">\n",
       "      <th></th>\n",
       "      <th>Pressure</th>\n",
       "      <th>Pressure+24h</th>\n",
       "    </tr>\n",
       "    <tr>\n",
       "      <th>Datetime</th>\n",
       "      <th></th>\n",
       "      <th></th>\n",
       "    </tr>\n",
       "  </thead>\n",
       "  <tbody>\n",
       "    <tr>\n",
       "      <td>2006-04-01 00:00:00</td>\n",
       "      <td>1015.13</td>\n",
       "      <td>1015.68</td>\n",
       "    </tr>\n",
       "    <tr>\n",
       "      <td>2006-04-01 01:00:00</td>\n",
       "      <td>1015.63</td>\n",
       "      <td>1015.41</td>\n",
       "    </tr>\n",
       "    <tr>\n",
       "      <td>2006-04-01 02:00:00</td>\n",
       "      <td>1015.94</td>\n",
       "      <td>1014.98</td>\n",
       "    </tr>\n",
       "    <tr>\n",
       "      <td>2006-04-01 03:00:00</td>\n",
       "      <td>1016.41</td>\n",
       "      <td>1015.18</td>\n",
       "    </tr>\n",
       "    <tr>\n",
       "      <td>2006-04-01 04:00:00</td>\n",
       "      <td>1016.51</td>\n",
       "      <td>1014.70</td>\n",
       "    </tr>\n",
       "  </tbody>\n",
       "</table>\n",
       "</div>"
      ],
      "text/plain": [
       "                     Pressure  Pressure+24h\n",
       "Datetime                                   \n",
       "2006-04-01 00:00:00   1015.13       1015.68\n",
       "2006-04-01 01:00:00   1015.63       1015.41\n",
       "2006-04-01 02:00:00   1015.94       1014.98\n",
       "2006-04-01 03:00:00   1016.41       1015.18\n",
       "2006-04-01 04:00:00   1016.51       1014.70"
      ]
     },
     "execution_count": 6,
     "metadata": {},
     "output_type": "execute_result"
    }
   ],
   "source": [
    "data.head()"
   ]
  },
  {
   "cell_type": "markdown",
   "metadata": {},
   "source": [
    "## Step 2: Prepare\n",
    "- Explore data\n",
    "- Visualize ideas\n",
    "- Cleaning data"
   ]
  },
  {
   "cell_type": "markdown",
   "metadata": {},
   "source": [
    "### Step 2.a: Check the data types\n",
    "- This step tells you if some numeric column is not represented numeric.\n",
    "- Get the data types by ```.dtypes```"
   ]
  },
  {
   "cell_type": "code",
   "execution_count": 8,
   "metadata": {},
   "outputs": [
    {
     "data": {
      "text/plain": [
       "Pressure        float64\n",
       "Pressure+24h    float64\n",
       "dtype: object"
      ]
     },
     "execution_count": 8,
     "metadata": {},
     "output_type": "execute_result"
    }
   ],
   "source": [
    "data.dtypes"
   ]
  },
  {
   "cell_type": "code",
   "execution_count": 10,
   "metadata": {},
   "outputs": [
    {
     "data": {
      "text/plain": [
       "(96418, 2)"
      ]
     },
     "execution_count": 10,
     "metadata": {},
     "output_type": "execute_result"
    }
   ],
   "source": [
    "data.shape"
   ]
  },
  {
   "cell_type": "markdown",
   "metadata": {},
   "source": [
    "### Step 2.b: Check the length, null-values, and zero values\n",
    "- Check the length\n",
    "    - HINT: Use `len()`\n",
    "- Check the number of null-values\n",
    "    - HINT: Use `.isna().sum()`\n",
    "- Check the number of zero-values\n",
    "    - HINT: Use `(data == 0).sum()`"
   ]
  },
  {
   "cell_type": "code",
   "execution_count": 11,
   "metadata": {},
   "outputs": [
    {
     "data": {
      "text/plain": [
       "96418"
      ]
     },
     "execution_count": 11,
     "metadata": {},
     "output_type": "execute_result"
    }
   ],
   "source": [
    "len(data)"
   ]
  },
  {
   "cell_type": "code",
   "execution_count": 12,
   "metadata": {},
   "outputs": [
    {
     "data": {
      "text/plain": [
       "Pressure        False\n",
       "Pressure+24h     True\n",
       "dtype: bool"
      ]
     },
     "execution_count": 12,
     "metadata": {},
     "output_type": "execute_result"
    }
   ],
   "source": [
    "data.isna().any()"
   ]
  },
  {
   "cell_type": "code",
   "execution_count": 13,
   "metadata": {},
   "outputs": [
    {
     "data": {
      "text/plain": [
       "Pressure         0\n",
       "Pressure+24h    38\n",
       "dtype: int64"
      ]
     },
     "execution_count": 13,
     "metadata": {},
     "output_type": "execute_result"
    }
   ],
   "source": [
    "data.isna().sum()"
   ]
  },
  {
   "cell_type": "code",
   "execution_count": 14,
   "metadata": {},
   "outputs": [
    {
     "data": {
      "text/plain": [
       "Pressure        1288\n",
       "Pressure+24h    1288\n",
       "dtype: int64"
      ]
     },
     "execution_count": 14,
     "metadata": {},
     "output_type": "execute_result"
    }
   ],
   "source": [
    "(data==0).sum()"
   ]
  },
  {
   "cell_type": "markdown",
   "metadata": {},
   "source": [
    "### Step 2.c: Baseline\n",
    "- Check the correlation to have a measure if we did nothing\n",
    "    - HINT: Use `corr()`"
   ]
  },
  {
   "cell_type": "code",
   "execution_count": 15,
   "metadata": {},
   "outputs": [
    {
     "data": {
      "text/html": [
       "<div>\n",
       "<style scoped>\n",
       "    .dataframe tbody tr th:only-of-type {\n",
       "        vertical-align: middle;\n",
       "    }\n",
       "\n",
       "    .dataframe tbody tr th {\n",
       "        vertical-align: top;\n",
       "    }\n",
       "\n",
       "    .dataframe thead th {\n",
       "        text-align: right;\n",
       "    }\n",
       "</style>\n",
       "<table border=\"1\" class=\"dataframe\">\n",
       "  <thead>\n",
       "    <tr style=\"text-align: right;\">\n",
       "      <th></th>\n",
       "      <th>Pressure</th>\n",
       "      <th>Pressure+24h</th>\n",
       "    </tr>\n",
       "  </thead>\n",
       "  <tbody>\n",
       "    <tr>\n",
       "      <td>Pressure</td>\n",
       "      <td>1.000000</td>\n",
       "      <td>0.419074</td>\n",
       "    </tr>\n",
       "    <tr>\n",
       "      <td>Pressure+24h</td>\n",
       "      <td>0.419074</td>\n",
       "      <td>1.000000</td>\n",
       "    </tr>\n",
       "  </tbody>\n",
       "</table>\n",
       "</div>"
      ],
      "text/plain": [
       "              Pressure  Pressure+24h\n",
       "Pressure      1.000000      0.419074\n",
       "Pressure+24h  0.419074      1.000000"
      ]
     },
     "execution_count": 15,
     "metadata": {},
     "output_type": "execute_result"
    }
   ],
   "source": [
    "data.corr()"
   ]
  },
  {
   "cell_type": "code",
   "execution_count": 17,
   "metadata": {},
   "outputs": [
    {
     "data": {
      "text/html": [
       "<div>\n",
       "<style scoped>\n",
       "    .dataframe tbody tr th:only-of-type {\n",
       "        vertical-align: middle;\n",
       "    }\n",
       "\n",
       "    .dataframe tbody tr th {\n",
       "        vertical-align: top;\n",
       "    }\n",
       "\n",
       "    .dataframe thead th {\n",
       "        text-align: right;\n",
       "    }\n",
       "</style>\n",
       "<table border=\"1\" class=\"dataframe\">\n",
       "  <thead>\n",
       "    <tr style=\"text-align: right;\">\n",
       "      <th></th>\n",
       "      <th>Pressure</th>\n",
       "      <th>Pressure+24h</th>\n",
       "    </tr>\n",
       "  </thead>\n",
       "  <tbody>\n",
       "    <tr>\n",
       "      <td>count</td>\n",
       "      <td>96418.000000</td>\n",
       "      <td>96380.000000</td>\n",
       "    </tr>\n",
       "    <tr>\n",
       "      <td>mean</td>\n",
       "      <td>1003.231025</td>\n",
       "      <td>1003.227178</td>\n",
       "    </tr>\n",
       "    <tr>\n",
       "      <td>std</td>\n",
       "      <td>116.990796</td>\n",
       "      <td>117.013672</td>\n",
       "    </tr>\n",
       "    <tr>\n",
       "      <td>min</td>\n",
       "      <td>0.000000</td>\n",
       "      <td>0.000000</td>\n",
       "    </tr>\n",
       "    <tr>\n",
       "      <td>25%</td>\n",
       "      <td>1011.900000</td>\n",
       "      <td>1011.900000</td>\n",
       "    </tr>\n",
       "    <tr>\n",
       "      <td>50%</td>\n",
       "      <td>1016.440000</td>\n",
       "      <td>1016.450000</td>\n",
       "    </tr>\n",
       "    <tr>\n",
       "      <td>75%</td>\n",
       "      <td>1021.090000</td>\n",
       "      <td>1021.090000</td>\n",
       "    </tr>\n",
       "    <tr>\n",
       "      <td>max</td>\n",
       "      <td>1046.380000</td>\n",
       "      <td>1046.380000</td>\n",
       "    </tr>\n",
       "  </tbody>\n",
       "</table>\n",
       "</div>"
      ],
      "text/plain": [
       "           Pressure  Pressure+24h\n",
       "count  96418.000000  96380.000000\n",
       "mean    1003.231025   1003.227178\n",
       "std      116.990796    117.013672\n",
       "min        0.000000      0.000000\n",
       "25%     1011.900000   1011.900000\n",
       "50%     1016.440000   1016.450000\n",
       "75%     1021.090000   1021.090000\n",
       "max     1046.380000   1046.380000"
      ]
     },
     "execution_count": 17,
     "metadata": {},
     "output_type": "execute_result"
    }
   ],
   "source": [
    "data.describe()"
   ]
  },
  {
   "cell_type": "markdown",
   "metadata": {},
   "source": [
    "### Step 2.d: Prepare data\n",
    "- We know `Pressure+24` has NaN and 0 values.\n",
    "- These are not correct values and we cannot use them in our model.\n",
    "- Create a `dataset` without these rows.\n",
    "    - HINT: Use filters like `data[data['Pressure+24h'] != 0]` and `dropna()`"
   ]
  },
  {
   "cell_type": "code",
   "execution_count": 18,
   "metadata": {},
   "outputs": [],
   "source": [
    "dataset=data[data['Pressure+24h'] != 0] "
   ]
  },
  {
   "cell_type": "code",
   "execution_count": 19,
   "metadata": {},
   "outputs": [],
   "source": [
    "dataset=dataset.dropna()"
   ]
  },
  {
   "cell_type": "code",
   "execution_count": 20,
   "metadata": {},
   "outputs": [
    {
     "data": {
      "text/plain": [
       "Pressure        False\n",
       "Pressure+24h    False\n",
       "dtype: bool"
      ]
     },
     "execution_count": 20,
     "metadata": {},
     "output_type": "execute_result"
    }
   ],
   "source": [
    "dataset.isna().any()"
   ]
  },
  {
   "cell_type": "markdown",
   "metadata": {},
   "source": [
    "### Step 2.e: Check the size and zero values\n",
    "- Check the size of datasets `data` and `datasets`\n",
    "- Check how many zero-values each dataset has"
   ]
  },
  {
   "cell_type": "code",
   "execution_count": 21,
   "metadata": {},
   "outputs": [
    {
     "data": {
      "text/plain": [
       "(96418, 95092)"
      ]
     },
     "execution_count": 21,
     "metadata": {},
     "output_type": "execute_result"
    }
   ],
   "source": [
    "len(data),len(dataset)"
   ]
  },
  {
   "cell_type": "markdown",
   "metadata": {},
   "source": [
    "### Step 2.f: Check the correlation\n",
    "- For fun check the correlation of `dataset`\n",
    "- Then do the same after you interpolated 0 values\n",
    "    - HINT: Apply `replace` and `interpolate`\n",
    "- Does the result surprice you?\n",
    "- Notice how much interpolation improves the result"
   ]
  },
  {
   "cell_type": "code",
   "execution_count": 22,
   "metadata": {},
   "outputs": [
    {
     "data": {
      "text/html": [
       "<div>\n",
       "<style scoped>\n",
       "    .dataframe tbody tr th:only-of-type {\n",
       "        vertical-align: middle;\n",
       "    }\n",
       "\n",
       "    .dataframe tbody tr th {\n",
       "        vertical-align: top;\n",
       "    }\n",
       "\n",
       "    .dataframe thead th {\n",
       "        text-align: right;\n",
       "    }\n",
       "</style>\n",
       "<table border=\"1\" class=\"dataframe\">\n",
       "  <thead>\n",
       "    <tr style=\"text-align: right;\">\n",
       "      <th></th>\n",
       "      <th>Pressure</th>\n",
       "      <th>Pressure+24h</th>\n",
       "    </tr>\n",
       "  </thead>\n",
       "  <tbody>\n",
       "    <tr>\n",
       "      <td>Pressure</td>\n",
       "      <td>1.000000</td>\n",
       "      <td>0.083047</td>\n",
       "    </tr>\n",
       "    <tr>\n",
       "      <td>Pressure+24h</td>\n",
       "      <td>0.083047</td>\n",
       "      <td>1.000000</td>\n",
       "    </tr>\n",
       "  </tbody>\n",
       "</table>\n",
       "</div>"
      ],
      "text/plain": [
       "              Pressure  Pressure+24h\n",
       "Pressure      1.000000      0.083047\n",
       "Pressure+24h  0.083047      1.000000"
      ]
     },
     "execution_count": 22,
     "metadata": {},
     "output_type": "execute_result"
    }
   ],
   "source": [
    "dataset.corr()"
   ]
  },
  {
   "cell_type": "code",
   "execution_count": 23,
   "metadata": {},
   "outputs": [
    {
     "data": {
      "text/html": [
       "<div>\n",
       "<style scoped>\n",
       "    .dataframe tbody tr th:only-of-type {\n",
       "        vertical-align: middle;\n",
       "    }\n",
       "\n",
       "    .dataframe tbody tr th {\n",
       "        vertical-align: top;\n",
       "    }\n",
       "\n",
       "    .dataframe thead th {\n",
       "        text-align: right;\n",
       "    }\n",
       "</style>\n",
       "<table border=\"1\" class=\"dataframe\">\n",
       "  <thead>\n",
       "    <tr style=\"text-align: right;\">\n",
       "      <th></th>\n",
       "      <th>Pressure</th>\n",
       "      <th>Pressure+24h</th>\n",
       "    </tr>\n",
       "  </thead>\n",
       "  <tbody>\n",
       "    <tr>\n",
       "      <td>Pressure</td>\n",
       "      <td>1.00000</td>\n",
       "      <td>0.79447</td>\n",
       "    </tr>\n",
       "    <tr>\n",
       "      <td>Pressure+24h</td>\n",
       "      <td>0.79447</td>\n",
       "      <td>1.00000</td>\n",
       "    </tr>\n",
       "  </tbody>\n",
       "</table>\n",
       "</div>"
      ],
      "text/plain": [
       "              Pressure  Pressure+24h\n",
       "Pressure       1.00000       0.79447\n",
       "Pressure+24h   0.79447       1.00000"
      ]
     },
     "execution_count": 23,
     "metadata": {},
     "output_type": "execute_result"
    }
   ],
   "source": [
    "dataset.replace(0,np.nan).interpolate().corr()"
   ]
  },
  {
   "cell_type": "markdown",
   "metadata": {},
   "source": [
    "### Step 2.g: Linear Regression Function\n",
    "- Create function `regression_score` to calculate the r-square score\n",
    "- It should take independent features X and dependent feature y\n",
    "- Then split that into training and testing sets.\n",
    "- Fit the training set.\n",
    "- Predict the test set.\n",
    "- Return the r-square score"
   ]
  },
  {
   "cell_type": "code",
   "execution_count": 24,
   "metadata": {},
   "outputs": [],
   "source": [
    "def regression_score(X,y):\n",
    "    X_train,X_test,y_train,y_test=train_test_split(X,y,test_size=0.2,random_state=42)\n",
    "    lin=LinearRegression()\n",
    "    lin.fit(X_train,y_train)\n",
    "    y_pred=lin.predict(X_test)\n",
    "    return r2_score(y_test,y_pred)"
   ]
  },
  {
   "cell_type": "markdown",
   "metadata": {},
   "source": [
    "### Step 2.h: Test baseline\n",
    "- Test the `regression_score` function on `dataset`"
   ]
  },
  {
   "cell_type": "code",
   "execution_count": 25,
   "metadata": {},
   "outputs": [
    {
     "data": {
      "text/plain": [
       "0.008080860028906622"
      ]
     },
     "execution_count": 25,
     "metadata": {},
     "output_type": "execute_result"
    }
   ],
   "source": [
    "regression_score(dataset[['Pressure']],dataset['Pressure+24h'])"
   ]
  },
  {
   "cell_type": "markdown",
   "metadata": {},
   "source": [
    "### Step 2.i: Test on interploated dataset\n",
    "- Make a interpolated dataset\n",
    "- Get the result (from `regression_score`) for interpolated dataset"
   ]
  },
  {
   "cell_type": "code",
   "execution_count": 26,
   "metadata": {},
   "outputs": [
    {
     "data": {
      "text/plain": [
       "0.6269601274081953"
      ]
     },
     "execution_count": 26,
     "metadata": {},
     "output_type": "execute_result"
    }
   ],
   "source": [
    "dataset_interpolated=dataset.replace(0,np.nan).interpolate()\n",
    "regression_score(dataset_interpolated[['Pressure']],dataset_interpolated['Pressure+24h'])"
   ]
  },
  {
   "cell_type": "code",
   "execution_count": null,
   "metadata": {},
   "outputs": [],
   "source": []
  }
 ],
 "metadata": {
  "kernelspec": {
   "display_name": "Python 3",
   "language": "python",
   "name": "python3"
  },
  "language_info": {
   "codemirror_mode": {
    "name": "ipython",
    "version": 3
   },
   "file_extension": ".py",
   "mimetype": "text/x-python",
   "name": "python",
   "nbconvert_exporter": "python",
   "pygments_lexer": "ipython3",
   "version": "3.7.4"
  }
 },
 "nbformat": 4,
 "nbformat_minor": 5
}
