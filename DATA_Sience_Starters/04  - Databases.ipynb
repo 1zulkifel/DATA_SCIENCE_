{
 "cells": [
  {
   "cell_type": "markdown",
   "metadata": {},
   "source": [
    "# Databases"
   ]
  },
  {
   "cell_type": "markdown",
   "metadata": {},
   "source": [
    "![Data Science Workflow](DSworkflow.png)"
   ]
  },
  {
   "cell_type": "markdown",
   "metadata": {},
   "source": [
    "## Acquire Data\n",
    "### Common Data Sources\n",
    "- The Internet - Web Scraping\n",
    "- **Databases**\n",
    "- CSV\n",
    "- Excel\n",
    "- Parquet"
   ]
  },
  {
   "cell_type": "markdown",
   "metadata": {},
   "source": [
    "### Database\n",
    "- **Relational databases** models data in rows and columns in a series of tables.\n",
    "- Like a collection of **DataFrames/Excel sheets**.\n",
    "- **SQL** (often pronounced *sequel*): Structured Query Language\n",
    "- Non-relational databases [NoSQL](https://en.wikipedia.org/wiki/NoSQL)"
   ]
  },
  {
   "cell_type": "markdown",
   "metadata": {},
   "source": [
    "### SQLite database\n",
    "- [SQLite database](https://www.sqlite.org/index.html) software library that provides a relational database management system\n",
    "- Lightweight to setup, administrate, and requires low resources."
   ]
  },
  {
   "cell_type": "markdown",
   "metadata": {},
   "source": [
    "### Dataset (in a SQLite database)\n",
    "- Dallas Police Officer-Involved Shootings\n",
    "- Has three tables: **incidents, officers, subjects**\n",
    "\n",
    "#### Other SQLite datasets\n",
    "- [SQLite Data Starter Packs](http://2016.padjo.org/tutorials/sqlite-data-starterpacks/)\n",
    "- [Iris Species (Kaggle)](https://www.kaggle.com/uciml/iris)\n",
    "- [European Soccer Database (Kaggle)](https://www.kaggle.com/hugomathien/soccer)"
   ]
  },
  {
   "cell_type": "markdown",
   "metadata": {},
   "source": [
    "### Database connector\n",
    "- The [sqlite3](https://docs.python.org/3/library/sqlite3.html) is an interface for SQLite databases.\n",
    "- No installation needed.\n",
    "\n",
    "#### Other database connectors for Python\n",
    "* [MySQL Connector](https://dev.mysql.com/doc/connector-python/en/) for MySQL\n",
    "* [Psycopg](http://initd.org/psycopg/docs/install.html) for PostgreSQL\n",
    "* [pymssql](http://pymssql.org/en/stable/) for Microsoft MS SQL"
   ]
  },
  {
   "cell_type": "markdown",
   "metadata": {},
   "source": [
    "To import and connect to a SQLite database.\n",
    "```Python\n",
    "import sqlite3\n",
    "conn = sqlite3.connect('files/dallas-ois.sqlite')\n",
    "```"
   ]
  },
  {
   "cell_type": "code",
   "execution_count": 28,
   "metadata": {},
   "outputs": [],
   "source": [
    "import sqlite3\n",
    "conn=sqlite3.connect('files/dallas-ois.sqlite')"
   ]
  },
  {
   "cell_type": "code",
   "execution_count": null,
   "metadata": {},
   "outputs": [],
   "source": []
  },
  {
   "cell_type": "markdown",
   "metadata": {},
   "source": [
    "The interface to the datases is through the `cursor`.\n",
    "\n",
    "```Python\n",
    "cursor = conn.cursor()\n",
    "```\n",
    "\n",
    "The `execute` method allows to run `SQL` queries on our database.\n",
    "\n",
    "To get a list of all the tables the following query can be applied.\n",
    "\n",
    "```SQL\n",
    "SELECT name FROM sqlite_master WHERE type='table' ORDER BY name\n",
    "```\n",
    "\n",
    "The result is fetched with the `fetchall()` method."
   ]
  },
  {
   "cell_type": "code",
   "execution_count": 29,
   "metadata": {},
   "outputs": [],
   "source": [
    "cursor=conn.cursor()"
   ]
  },
  {
   "cell_type": "code",
   "execution_count": 30,
   "metadata": {},
   "outputs": [
    {
     "data": {
      "text/plain": [
       "<sqlite3.Cursor at 0x7f96cedb9c70>"
      ]
     },
     "execution_count": 30,
     "metadata": {},
     "output_type": "execute_result"
    }
   ],
   "source": [
    "cursor.execute(\"SELECT name FROM sqlite_master WHERE type='table' ORDER BY name\")"
   ]
  },
  {
   "cell_type": "code",
   "execution_count": 31,
   "metadata": {},
   "outputs": [
    {
     "data": {
      "text/plain": [
       "[]"
      ]
     },
     "execution_count": 31,
     "metadata": {},
     "output_type": "execute_result"
    }
   ],
   "source": [
    "cursor.fetchall()"
   ]
  },
  {
   "cell_type": "markdown",
   "metadata": {},
   "source": [
    "To get a description of a table (SQLite specific)\n",
    "\n",
    "```SQL\n",
    "PRAGMA table_info(officers)\n",
    "```"
   ]
  },
  {
   "cell_type": "code",
   "execution_count": 32,
   "metadata": {},
   "outputs": [
    {
     "data": {
      "text/plain": [
       "[]"
      ]
     },
     "execution_count": 32,
     "metadata": {},
     "output_type": "execute_result"
    }
   ],
   "source": [
    "cursor.execute(\"PRAGMA table_info(officers)\").fetchall()"
   ]
  },
  {
   "cell_type": "code",
   "execution_count": null,
   "metadata": {},
   "outputs": [],
   "source": []
  },
  {
   "cell_type": "markdown",
   "metadata": {},
   "source": [
    "### SQL syntax\n",
    "Get all data from table\n",
    "```SQL\n",
    "SELECT * FROM table_name\n",
    "```\n",
    "\n",
    "Limit the response\n",
    "```SQL\n",
    "SELECT * FROM table_name LIMIT 100\n",
    "```\n",
    "\n",
    "Filter data\n",
    "```SQL\n",
    "SELECT * FROM table_name WHERE column_name > 1\n",
    "```"
   ]
  },
  {
   "cell_type": "markdown",
   "metadata": {},
   "source": [
    "### Import data into DataFrame\n",
    "Example of how to read data into a DataFrame from a SQL statement\n",
    "```Python\n",
    "import pandas as pd\n",
    "\n",
    "officers = pd.read_sql('SELECT * FROM officers', conn)\n",
    "```"
   ]
  },
  {
   "cell_type": "code",
   "execution_count": null,
   "metadata": {},
   "outputs": [],
   "source": []
  },
  {
   "cell_type": "code",
   "execution_count": null,
   "metadata": {},
   "outputs": [],
   "source": []
  },
  {
   "cell_type": "code",
   "execution_count": null,
   "metadata": {},
   "outputs": [],
   "source": []
  },
  {
   "cell_type": "markdown",
   "metadata": {},
   "source": [
    "### SQL join syntax\n",
    "`(INNER) JOIN`: returns records that have matching values in both tables\n",
    "```SQL\n",
    "SELECT * FROM table_1 JOIN table_2 ON table_1.column_name_1=table_2.column_name_2\n",
    "```\n",
    "\n",
    "`LEFT JOIN`: returns all records from the left table, and the matched records from the right table\n",
    "```SQL\n",
    "SELECT * FROM table_1 LEFT JOIN table_2 ON table_1.column_name_1=table_2.column_name_2\n",
    "```"
   ]
  },
  {
   "cell_type": "code",
   "execution_count": null,
   "metadata": {},
   "outputs": [],
   "source": []
  },
  {
   "cell_type": "code",
   "execution_count": null,
   "metadata": {},
   "outputs": [],
   "source": []
  },
  {
   "cell_type": "code",
   "execution_count": null,
   "metadata": {},
   "outputs": [],
   "source": []
  },
  {
   "cell_type": "code",
   "execution_count": null,
   "metadata": {},
   "outputs": [],
   "source": []
  },
  {
   "cell_type": "code",
   "execution_count": null,
   "metadata": {},
   "outputs": [],
   "source": []
  },
  {
   "cell_type": "code",
   "execution_count": null,
   "metadata": {},
   "outputs": [],
   "source": []
  },
  {
   "cell_type": "code",
   "execution_count": null,
   "metadata": {},
   "outputs": [],
   "source": []
  }
 ],
 "metadata": {
  "kernelspec": {
   "display_name": "Python 3",
   "language": "python",
   "name": "python3"
  },
  "language_info": {
   "codemirror_mode": {
    "name": "ipython",
    "version": 3
   },
   "file_extension": ".py",
   "mimetype": "text/x-python",
   "name": "python",
   "nbconvert_exporter": "python",
   "pygments_lexer": "ipython3",
   "version": "3.7.4"
  }
 },
 "nbformat": 4,
 "nbformat_minor": 5
}
