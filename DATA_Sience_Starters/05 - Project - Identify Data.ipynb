{
 "cells": [
  {
   "cell_type": "markdown",
   "metadata": {},
   "source": [
    "# Project - Identify Data"
   ]
  },
  {
   "cell_type": "markdown",
   "metadata": {},
   "source": [
    "![Data Science Workflow](DSworkflow.png)"
   ]
  },
  {
   "cell_type": "markdown",
   "metadata": {},
   "source": [
    "## Goal of Project\n",
    "- World population growth rate\n",
    "- Is the growth rate stable? Increasing or Declining?"
   ]
  },
  {
   "cell_type": "markdown",
   "metadata": {},
   "source": [
    "## Step 1: Acquire\n",
    "- Explore problem\n",
    "- Identify data\n",
    "- Import data"
   ]
  },
  {
   "cell_type": "markdown",
   "metadata": {},
   "source": [
    "### Step 1.a: Explore and understand problem\n",
    "- What data do we need to answer the problem?"
   ]
  },
  {
   "cell_type": "markdown",
   "metadata": {},
   "source": [
    "### Step 1.b: Indentify data with world population\n",
    "- There are multiple sources\n",
    "- World bank: https://data.worldbank.org/indicator/SP.POP.TOTL\n",
    "- Wiki: https://en.wikipedia.org/wiki/World_population\n",
    "- ...and probably more\n"
   ]
  },
  {
   "cell_type": "markdown",
   "metadata": {},
   "source": [
    "### Step 1.c: Download and import the data\n",
    "- We will download it from World Bank"
   ]
  },
  {
   "cell_type": "code",
   "execution_count": 15,
   "metadata": {},
   "outputs": [],
   "source": [
    "url='https://en.wikipedia.org/wiki/World_population'\n",
    "data=pd.read_html(url)"
   ]
  },
  {
   "cell_type": "code",
   "execution_count": 36,
   "metadata": {},
   "outputs": [
    {
     "data": {
      "text/html": [
       "<div>\n",
       "<style scoped>\n",
       "    .dataframe tbody tr th:only-of-type {\n",
       "        vertical-align: middle;\n",
       "    }\n",
       "\n",
       "    .dataframe tbody tr th {\n",
       "        vertical-align: top;\n",
       "    }\n",
       "\n",
       "    .dataframe thead tr th {\n",
       "        text-align: left;\n",
       "    }\n",
       "</style>\n",
       "<table border=\"1\" class=\"dataframe\">\n",
       "  <thead>\n",
       "    <tr>\n",
       "      <th></th>\n",
       "      <th>Year</th>\n",
       "      <th>Population</th>\n",
       "      <th colspan=\"2\" halign=\"left\">Yearly growth</th>\n",
       "      <th>Density(pop/km2)</th>\n",
       "      <th colspan=\"2\" halign=\"left\">Urban population</th>\n",
       "    </tr>\n",
       "    <tr>\n",
       "      <th></th>\n",
       "      <th>Year</th>\n",
       "      <th>Population</th>\n",
       "      <th>%</th>\n",
       "      <th>Number</th>\n",
       "      <th>Density(pop/km2)</th>\n",
       "      <th>Number</th>\n",
       "      <th>%</th>\n",
       "    </tr>\n",
       "  </thead>\n",
       "  <tbody>\n",
       "    <tr>\n",
       "      <td>0</td>\n",
       "      <td>1951</td>\n",
       "      <td>2584034261</td>\n",
       "      <td>1.88%</td>\n",
       "      <td>47603112</td>\n",
       "      <td>17</td>\n",
       "      <td>775067697</td>\n",
       "      <td>30%</td>\n",
       "    </tr>\n",
       "    <tr>\n",
       "      <td>1</td>\n",
       "      <td>1952</td>\n",
       "      <td>2630861562</td>\n",
       "      <td>1.81%</td>\n",
       "      <td>46827301</td>\n",
       "      <td>18</td>\n",
       "      <td>799282533</td>\n",
       "      <td>30%</td>\n",
       "    </tr>\n",
       "    <tr>\n",
       "      <td>2</td>\n",
       "      <td>1953</td>\n",
       "      <td>2677608960</td>\n",
       "      <td>1.78%</td>\n",
       "      <td>46747398</td>\n",
       "      <td>18</td>\n",
       "      <td>824289989</td>\n",
       "      <td>31%</td>\n",
       "    </tr>\n",
       "    <tr>\n",
       "      <td>3</td>\n",
       "      <td>1954</td>\n",
       "      <td>2724846741</td>\n",
       "      <td>1.76%</td>\n",
       "      <td>47237781</td>\n",
       "      <td>18</td>\n",
       "      <td>850179106</td>\n",
       "      <td>31%</td>\n",
       "    </tr>\n",
       "    <tr>\n",
       "      <td>4</td>\n",
       "      <td>1955</td>\n",
       "      <td>2773019936</td>\n",
       "      <td>1.77%</td>\n",
       "      <td>48173195</td>\n",
       "      <td>19</td>\n",
       "      <td>877008842</td>\n",
       "      <td>32%</td>\n",
       "    </tr>\n",
       "    <tr>\n",
       "      <td>...</td>\n",
       "      <td>...</td>\n",
       "      <td>...</td>\n",
       "      <td>...</td>\n",
       "      <td>...</td>\n",
       "      <td>...</td>\n",
       "      <td>...</td>\n",
       "      <td>...</td>\n",
       "    </tr>\n",
       "    <tr>\n",
       "      <td>65</td>\n",
       "      <td>2016</td>\n",
       "      <td>7464022000</td>\n",
       "      <td>1.14%</td>\n",
       "      <td>84225000</td>\n",
       "      <td>50</td>\n",
       "      <td>4060653000</td>\n",
       "      <td>54%</td>\n",
       "    </tr>\n",
       "    <tr>\n",
       "      <td>66</td>\n",
       "      <td>2017</td>\n",
       "      <td>7547859000</td>\n",
       "      <td>1.12%</td>\n",
       "      <td>83837000</td>\n",
       "      <td>51</td>\n",
       "      <td>4140189000</td>\n",
       "      <td>55%</td>\n",
       "    </tr>\n",
       "    <tr>\n",
       "      <td>67</td>\n",
       "      <td>2018</td>\n",
       "      <td>7631091000</td>\n",
       "      <td>1.10%</td>\n",
       "      <td>83232000</td>\n",
       "      <td>51</td>\n",
       "      <td>4219817000</td>\n",
       "      <td>55%</td>\n",
       "    </tr>\n",
       "    <tr>\n",
       "      <td>68</td>\n",
       "      <td>2019</td>\n",
       "      <td>7713468000</td>\n",
       "      <td>1.08%</td>\n",
       "      <td>82377000</td>\n",
       "      <td>52</td>\n",
       "      <td>4299439000</td>\n",
       "      <td>56%</td>\n",
       "    </tr>\n",
       "    <tr>\n",
       "      <td>69</td>\n",
       "      <td>2020</td>\n",
       "      <td>7795000000</td>\n",
       "      <td>1.05%</td>\n",
       "      <td>81331000</td>\n",
       "      <td>52</td>\n",
       "      <td>4378900000</td>\n",
       "      <td>56%</td>\n",
       "    </tr>\n",
       "  </tbody>\n",
       "</table>\n",
       "<p>70 rows × 7 columns</p>\n",
       "</div>"
      ],
      "text/plain": [
       "    Year  Population Yearly growth           Density(pop/km2)  \\\n",
       "    Year  Population             %    Number Density(pop/km2)   \n",
       "0   1951  2584034261         1.88%  47603112               17   \n",
       "1   1952  2630861562         1.81%  46827301               18   \n",
       "2   1953  2677608960         1.78%  46747398               18   \n",
       "3   1954  2724846741         1.76%  47237781               18   \n",
       "4   1955  2773019936         1.77%  48173195               19   \n",
       "..   ...         ...           ...       ...              ...   \n",
       "65  2016  7464022000         1.14%  84225000               50   \n",
       "66  2017  7547859000         1.12%  83837000               51   \n",
       "67  2018  7631091000         1.10%  83232000               51   \n",
       "68  2019  7713468000         1.08%  82377000               52   \n",
       "69  2020  7795000000         1.05%  81331000               52   \n",
       "\n",
       "   Urban population       \n",
       "             Number    %  \n",
       "0         775067697  30%  \n",
       "1         799282533  30%  \n",
       "2         824289989  31%  \n",
       "3         850179106  31%  \n",
       "4         877008842  32%  \n",
       "..              ...  ...  \n",
       "65       4060653000  54%  \n",
       "66       4140189000  55%  \n",
       "67       4219817000  55%  \n",
       "68       4299439000  56%  \n",
       "69       4378900000  56%  \n",
       "\n",
       "[70 rows x 7 columns]"
      ]
     },
     "execution_count": 36,
     "metadata": {},
     "output_type": "execute_result"
    }
   ],
   "source": [
    "data[7]"
   ]
  },
  {
   "cell_type": "code",
   "execution_count": null,
   "metadata": {},
   "outputs": [],
   "source": []
  },
  {
   "cell_type": "markdown",
   "metadata": {},
   "source": [
    "### Step 1.d: Import libraries\n",
    "- Execute the cell below (SHIFT + ENTER)"
   ]
  },
  {
   "cell_type": "code",
   "execution_count": 1,
   "metadata": {},
   "outputs": [],
   "source": [
    "import pandas as pd\n",
    "import matplotlib.pyplot as plt\n",
    "%matplotlib inline"
   ]
  },
  {
   "cell_type": "markdown",
   "metadata": {},
   "source": [
    "### Step 1.e: Read the data\n",
    "- Use ```pd.read_csv()``` to read the file `files/API_SP/API_SP.POP.TOTL_DS2_en_csv_v2_3158886.csv`\n",
    "- NOTE: Remember to assign the result to a variable (e.g., ```data```)\n",
    "- HELP: You might need to `skiprows=4`\n",
    "- Apply ```.head()``` on the data to see all is as expected"
   ]
  },
  {
   "cell_type": "code",
   "execution_count": 2,
   "metadata": {},
   "outputs": [],
   "source": [
    "data=pd.read_csv('files/API_SP/API_SP.POP.TOTL.csv',skiprows=4)"
   ]
  },
  {
   "cell_type": "code",
   "execution_count": 3,
   "metadata": {},
   "outputs": [
    {
     "data": {
      "text/html": [
       "<div>\n",
       "<style scoped>\n",
       "    .dataframe tbody tr th:only-of-type {\n",
       "        vertical-align: middle;\n",
       "    }\n",
       "\n",
       "    .dataframe tbody tr th {\n",
       "        vertical-align: top;\n",
       "    }\n",
       "\n",
       "    .dataframe thead th {\n",
       "        text-align: right;\n",
       "    }\n",
       "</style>\n",
       "<table border=\"1\" class=\"dataframe\">\n",
       "  <thead>\n",
       "    <tr style=\"text-align: right;\">\n",
       "      <th></th>\n",
       "      <th>Country Name</th>\n",
       "      <th>Country Code</th>\n",
       "      <th>Indicator Name</th>\n",
       "      <th>Indicator Code</th>\n",
       "      <th>1960</th>\n",
       "      <th>1961</th>\n",
       "      <th>1962</th>\n",
       "      <th>1963</th>\n",
       "      <th>1964</th>\n",
       "      <th>1965</th>\n",
       "      <th>...</th>\n",
       "      <th>2013</th>\n",
       "      <th>2014</th>\n",
       "      <th>2015</th>\n",
       "      <th>2016</th>\n",
       "      <th>2017</th>\n",
       "      <th>2018</th>\n",
       "      <th>2019</th>\n",
       "      <th>2020</th>\n",
       "      <th>2021</th>\n",
       "      <th>Unnamed: 66</th>\n",
       "    </tr>\n",
       "  </thead>\n",
       "  <tbody>\n",
       "    <tr>\n",
       "      <td>0</td>\n",
       "      <td>Aruba</td>\n",
       "      <td>ABW</td>\n",
       "      <td>Population, total</td>\n",
       "      <td>SP.POP.TOTL</td>\n",
       "      <td>54208.0</td>\n",
       "      <td>55434.0</td>\n",
       "      <td>56234.0</td>\n",
       "      <td>56699.0</td>\n",
       "      <td>57029.0</td>\n",
       "      <td>57357.0</td>\n",
       "      <td>...</td>\n",
       "      <td>103165.0</td>\n",
       "      <td>103776.0</td>\n",
       "      <td>104339.0</td>\n",
       "      <td>104865.0</td>\n",
       "      <td>105361.0</td>\n",
       "      <td>105846.0</td>\n",
       "      <td>106310.0</td>\n",
       "      <td>106766.0</td>\n",
       "      <td>107195.0</td>\n",
       "      <td>NaN</td>\n",
       "    </tr>\n",
       "    <tr>\n",
       "      <td>1</td>\n",
       "      <td>Africa Eastern and Southern</td>\n",
       "      <td>AFE</td>\n",
       "      <td>Population, total</td>\n",
       "      <td>SP.POP.TOTL</td>\n",
       "      <td>130836765.0</td>\n",
       "      <td>134159786.0</td>\n",
       "      <td>137614644.0</td>\n",
       "      <td>141202036.0</td>\n",
       "      <td>144920186.0</td>\n",
       "      <td>148769974.0</td>\n",
       "      <td>...</td>\n",
       "      <td>562601578.0</td>\n",
       "      <td>578075373.0</td>\n",
       "      <td>593871847.0</td>\n",
       "      <td>609978946.0</td>\n",
       "      <td>626392880.0</td>\n",
       "      <td>643090131.0</td>\n",
       "      <td>660046272.0</td>\n",
       "      <td>677243299.0</td>\n",
       "      <td>694665117.0</td>\n",
       "      <td>NaN</td>\n",
       "    </tr>\n",
       "    <tr>\n",
       "      <td>2</td>\n",
       "      <td>Afghanistan</td>\n",
       "      <td>AFG</td>\n",
       "      <td>Population, total</td>\n",
       "      <td>SP.POP.TOTL</td>\n",
       "      <td>8996967.0</td>\n",
       "      <td>9169406.0</td>\n",
       "      <td>9351442.0</td>\n",
       "      <td>9543200.0</td>\n",
       "      <td>9744772.0</td>\n",
       "      <td>9956318.0</td>\n",
       "      <td>...</td>\n",
       "      <td>32269592.0</td>\n",
       "      <td>33370804.0</td>\n",
       "      <td>34413603.0</td>\n",
       "      <td>35383028.0</td>\n",
       "      <td>36296111.0</td>\n",
       "      <td>37171922.0</td>\n",
       "      <td>38041757.0</td>\n",
       "      <td>38928341.0</td>\n",
       "      <td>39835428.0</td>\n",
       "      <td>NaN</td>\n",
       "    </tr>\n",
       "    <tr>\n",
       "      <td>3</td>\n",
       "      <td>Africa Western and Central</td>\n",
       "      <td>AFW</td>\n",
       "      <td>Population, total</td>\n",
       "      <td>SP.POP.TOTL</td>\n",
       "      <td>96396419.0</td>\n",
       "      <td>98407221.0</td>\n",
       "      <td>100506960.0</td>\n",
       "      <td>102691339.0</td>\n",
       "      <td>104953470.0</td>\n",
       "      <td>107289875.0</td>\n",
       "      <td>...</td>\n",
       "      <td>380437896.0</td>\n",
       "      <td>390882979.0</td>\n",
       "      <td>401586651.0</td>\n",
       "      <td>412551299.0</td>\n",
       "      <td>423769930.0</td>\n",
       "      <td>435229381.0</td>\n",
       "      <td>446911598.0</td>\n",
       "      <td>458803476.0</td>\n",
       "      <td>470898870.0</td>\n",
       "      <td>NaN</td>\n",
       "    </tr>\n",
       "    <tr>\n",
       "      <td>4</td>\n",
       "      <td>Angola</td>\n",
       "      <td>AGO</td>\n",
       "      <td>Population, total</td>\n",
       "      <td>SP.POP.TOTL</td>\n",
       "      <td>5454938.0</td>\n",
       "      <td>5531451.0</td>\n",
       "      <td>5608499.0</td>\n",
       "      <td>5679409.0</td>\n",
       "      <td>5734995.0</td>\n",
       "      <td>5770573.0</td>\n",
       "      <td>...</td>\n",
       "      <td>26015786.0</td>\n",
       "      <td>26941773.0</td>\n",
       "      <td>27884380.0</td>\n",
       "      <td>28842482.0</td>\n",
       "      <td>29816769.0</td>\n",
       "      <td>30809787.0</td>\n",
       "      <td>31825299.0</td>\n",
       "      <td>32866268.0</td>\n",
       "      <td>33933611.0</td>\n",
       "      <td>NaN</td>\n",
       "    </tr>\n",
       "  </tbody>\n",
       "</table>\n",
       "<p>5 rows × 67 columns</p>\n",
       "</div>"
      ],
      "text/plain": [
       "                  Country Name Country Code     Indicator Name Indicator Code  \\\n",
       "0                        Aruba          ABW  Population, total    SP.POP.TOTL   \n",
       "1  Africa Eastern and Southern          AFE  Population, total    SP.POP.TOTL   \n",
       "2                  Afghanistan          AFG  Population, total    SP.POP.TOTL   \n",
       "3   Africa Western and Central          AFW  Population, total    SP.POP.TOTL   \n",
       "4                       Angola          AGO  Population, total    SP.POP.TOTL   \n",
       "\n",
       "          1960         1961         1962         1963         1964  \\\n",
       "0      54208.0      55434.0      56234.0      56699.0      57029.0   \n",
       "1  130836765.0  134159786.0  137614644.0  141202036.0  144920186.0   \n",
       "2    8996967.0    9169406.0    9351442.0    9543200.0    9744772.0   \n",
       "3   96396419.0   98407221.0  100506960.0  102691339.0  104953470.0   \n",
       "4    5454938.0    5531451.0    5608499.0    5679409.0    5734995.0   \n",
       "\n",
       "          1965  ...         2013         2014         2015         2016  \\\n",
       "0      57357.0  ...     103165.0     103776.0     104339.0     104865.0   \n",
       "1  148769974.0  ...  562601578.0  578075373.0  593871847.0  609978946.0   \n",
       "2    9956318.0  ...   32269592.0   33370804.0   34413603.0   35383028.0   \n",
       "3  107289875.0  ...  380437896.0  390882979.0  401586651.0  412551299.0   \n",
       "4    5770573.0  ...   26015786.0   26941773.0   27884380.0   28842482.0   \n",
       "\n",
       "          2017         2018         2019         2020         2021  \\\n",
       "0     105361.0     105846.0     106310.0     106766.0     107195.0   \n",
       "1  626392880.0  643090131.0  660046272.0  677243299.0  694665117.0   \n",
       "2   36296111.0   37171922.0   38041757.0   38928341.0   39835428.0   \n",
       "3  423769930.0  435229381.0  446911598.0  458803476.0  470898870.0   \n",
       "4   29816769.0   30809787.0   31825299.0   32866268.0   33933611.0   \n",
       "\n",
       "   Unnamed: 66  \n",
       "0          NaN  \n",
       "1          NaN  \n",
       "2          NaN  \n",
       "3          NaN  \n",
       "4          NaN  \n",
       "\n",
       "[5 rows x 67 columns]"
      ]
     },
     "execution_count": 3,
     "metadata": {},
     "output_type": "execute_result"
    }
   ],
   "source": [
    "data.head()"
   ]
  },
  {
   "cell_type": "markdown",
   "metadata": {},
   "source": [
    "### Step 1.f: Get world data\n",
    "- We are only insterested in data for the world.\n",
    "- The data can be identified by `Country Name` (World) or `Country Code` (WLD).\n",
    "- This can be done as follows:\n",
    "```Python\n",
    "data[data['Country Name'] == 'World']\n",
    "```\n",
    "- NOTE: Remember to keep data"
   ]
  },
  {
   "cell_type": "code",
   "execution_count": 4,
   "metadata": {},
   "outputs": [],
   "source": [
    "dataset=data[data['Country Name'] == 'World']"
   ]
  },
  {
   "cell_type": "code",
   "execution_count": 5,
   "metadata": {},
   "outputs": [
    {
     "data": {
      "text/html": [
       "<div>\n",
       "<style scoped>\n",
       "    .dataframe tbody tr th:only-of-type {\n",
       "        vertical-align: middle;\n",
       "    }\n",
       "\n",
       "    .dataframe tbody tr th {\n",
       "        vertical-align: top;\n",
       "    }\n",
       "\n",
       "    .dataframe thead th {\n",
       "        text-align: right;\n",
       "    }\n",
       "</style>\n",
       "<table border=\"1\" class=\"dataframe\">\n",
       "  <thead>\n",
       "    <tr style=\"text-align: right;\">\n",
       "      <th></th>\n",
       "      <th>Country Name</th>\n",
       "      <th>Country Code</th>\n",
       "      <th>Indicator Name</th>\n",
       "      <th>Indicator Code</th>\n",
       "      <th>1960</th>\n",
       "      <th>1961</th>\n",
       "      <th>1962</th>\n",
       "      <th>1963</th>\n",
       "      <th>1964</th>\n",
       "      <th>1965</th>\n",
       "      <th>...</th>\n",
       "      <th>2013</th>\n",
       "      <th>2014</th>\n",
       "      <th>2015</th>\n",
       "      <th>2016</th>\n",
       "      <th>2017</th>\n",
       "      <th>2018</th>\n",
       "      <th>2019</th>\n",
       "      <th>2020</th>\n",
       "      <th>2021</th>\n",
       "      <th>Unnamed: 66</th>\n",
       "    </tr>\n",
       "  </thead>\n",
       "  <tbody>\n",
       "    <tr>\n",
       "      <td>259</td>\n",
       "      <td>World</td>\n",
       "      <td>WLD</td>\n",
       "      <td>Population, total</td>\n",
       "      <td>SP.POP.TOTL</td>\n",
       "      <td>3.032156e+09</td>\n",
       "      <td>3.071596e+09</td>\n",
       "      <td>3.124561e+09</td>\n",
       "      <td>3.189656e+09</td>\n",
       "      <td>3.255146e+09</td>\n",
       "      <td>3.322047e+09</td>\n",
       "      <td>...</td>\n",
       "      <td>7.175500e+09</td>\n",
       "      <td>7.261847e+09</td>\n",
       "      <td>7.347679e+09</td>\n",
       "      <td>7.433651e+09</td>\n",
       "      <td>7.519371e+09</td>\n",
       "      <td>7.602716e+09</td>\n",
       "      <td>7.683806e+09</td>\n",
       "      <td>7.763933e+09</td>\n",
       "      <td>7.836631e+09</td>\n",
       "      <td>NaN</td>\n",
       "    </tr>\n",
       "  </tbody>\n",
       "</table>\n",
       "<p>1 rows × 67 columns</p>\n",
       "</div>"
      ],
      "text/plain": [
       "    Country Name Country Code     Indicator Name Indicator Code          1960  \\\n",
       "259        World          WLD  Population, total    SP.POP.TOTL  3.032156e+09   \n",
       "\n",
       "             1961          1962          1963          1964          1965  \\\n",
       "259  3.071596e+09  3.124561e+09  3.189656e+09  3.255146e+09  3.322047e+09   \n",
       "\n",
       "     ...          2013          2014          2015          2016  \\\n",
       "259  ...  7.175500e+09  7.261847e+09  7.347679e+09  7.433651e+09   \n",
       "\n",
       "             2017          2018          2019          2020          2021  \\\n",
       "259  7.519371e+09  7.602716e+09  7.683806e+09  7.763933e+09  7.836631e+09   \n",
       "\n",
       "     Unnamed: 66  \n",
       "259          NaN  \n",
       "\n",
       "[1 rows x 67 columns]"
      ]
     },
     "execution_count": 5,
     "metadata": {},
     "output_type": "execute_result"
    }
   ],
   "source": [
    "dataset"
   ]
  },
  {
   "cell_type": "markdown",
   "metadata": {},
   "source": [
    "## Step 2: Prepare\n",
    "- Explore data\n",
    "- Visualize ideas\n",
    "- Cleaning data"
   ]
  },
  {
   "cell_type": "markdown",
   "metadata": {},
   "source": [
    "### Step 2.a: Check the data types\n",
    "- This step tells you if some numeric column is not represented numeric.\n",
    "- Get the data types by ```.dtypes```"
   ]
  },
  {
   "cell_type": "code",
   "execution_count": 6,
   "metadata": {},
   "outputs": [
    {
     "data": {
      "text/plain": [
       "Country Name       object\n",
       "Country Code       object\n",
       "Indicator Name     object\n",
       "Indicator Code     object\n",
       "1960              float64\n",
       "                   ...   \n",
       "2018              float64\n",
       "2019              float64\n",
       "2020              float64\n",
       "2021              float64\n",
       "Unnamed: 66       float64\n",
       "Length: 67, dtype: object"
      ]
     },
     "execution_count": 6,
     "metadata": {},
     "output_type": "execute_result"
    }
   ],
   "source": [
    "dataset.dtypes"
   ]
  },
  {
   "cell_type": "markdown",
   "metadata": {},
   "source": [
    "### Step 2.b: Keep only needed columns\n",
    "- We are only interested in the year columns.\n",
    "- You can drop the other columns by: ```.drop(list_of_columns_to_delete, axis='columns')```\n",
    "- Notice there is a `unnamed` column.\n",
    "    - Remove it with `dataset.dropna(how='all', axis='columns')`"
   ]
  },
  {
   "cell_type": "code",
   "execution_count": 7,
   "metadata": {},
   "outputs": [],
   "source": [
    "dataset=dataset.drop(['Country Name','Country Code','Indicator Name','Indicator Code'],axis='columns')"
   ]
  },
  {
   "cell_type": "code",
   "execution_count": 8,
   "metadata": {},
   "outputs": [
    {
     "data": {
      "text/html": [
       "<div>\n",
       "<style scoped>\n",
       "    .dataframe tbody tr th:only-of-type {\n",
       "        vertical-align: middle;\n",
       "    }\n",
       "\n",
       "    .dataframe tbody tr th {\n",
       "        vertical-align: top;\n",
       "    }\n",
       "\n",
       "    .dataframe thead th {\n",
       "        text-align: right;\n",
       "    }\n",
       "</style>\n",
       "<table border=\"1\" class=\"dataframe\">\n",
       "  <thead>\n",
       "    <tr style=\"text-align: right;\">\n",
       "      <th></th>\n",
       "      <th>1960</th>\n",
       "      <th>1961</th>\n",
       "      <th>1962</th>\n",
       "      <th>1963</th>\n",
       "      <th>1964</th>\n",
       "      <th>1965</th>\n",
       "      <th>1966</th>\n",
       "      <th>1967</th>\n",
       "      <th>1968</th>\n",
       "      <th>1969</th>\n",
       "      <th>...</th>\n",
       "      <th>2013</th>\n",
       "      <th>2014</th>\n",
       "      <th>2015</th>\n",
       "      <th>2016</th>\n",
       "      <th>2017</th>\n",
       "      <th>2018</th>\n",
       "      <th>2019</th>\n",
       "      <th>2020</th>\n",
       "      <th>2021</th>\n",
       "      <th>Unnamed: 66</th>\n",
       "    </tr>\n",
       "  </thead>\n",
       "  <tbody>\n",
       "    <tr>\n",
       "      <td>259</td>\n",
       "      <td>3.032156e+09</td>\n",
       "      <td>3.071596e+09</td>\n",
       "      <td>3.124561e+09</td>\n",
       "      <td>3.189656e+09</td>\n",
       "      <td>3.255146e+09</td>\n",
       "      <td>3.322047e+09</td>\n",
       "      <td>3.392098e+09</td>\n",
       "      <td>3.461620e+09</td>\n",
       "      <td>3.532783e+09</td>\n",
       "      <td>3.606554e+09</td>\n",
       "      <td>...</td>\n",
       "      <td>7.175500e+09</td>\n",
       "      <td>7.261847e+09</td>\n",
       "      <td>7.347679e+09</td>\n",
       "      <td>7.433651e+09</td>\n",
       "      <td>7.519371e+09</td>\n",
       "      <td>7.602716e+09</td>\n",
       "      <td>7.683806e+09</td>\n",
       "      <td>7.763933e+09</td>\n",
       "      <td>7.836631e+09</td>\n",
       "      <td>NaN</td>\n",
       "    </tr>\n",
       "  </tbody>\n",
       "</table>\n",
       "<p>1 rows × 63 columns</p>\n",
       "</div>"
      ],
      "text/plain": [
       "             1960          1961          1962          1963          1964  \\\n",
       "259  3.032156e+09  3.071596e+09  3.124561e+09  3.189656e+09  3.255146e+09   \n",
       "\n",
       "             1965          1966          1967          1968          1969  \\\n",
       "259  3.322047e+09  3.392098e+09  3.461620e+09  3.532783e+09  3.606554e+09   \n",
       "\n",
       "     ...          2013          2014          2015          2016  \\\n",
       "259  ...  7.175500e+09  7.261847e+09  7.347679e+09  7.433651e+09   \n",
       "\n",
       "             2017          2018          2019          2020          2021  \\\n",
       "259  7.519371e+09  7.602716e+09  7.683806e+09  7.763933e+09  7.836631e+09   \n",
       "\n",
       "     Unnamed: 66  \n",
       "259          NaN  \n",
       "\n",
       "[1 rows x 63 columns]"
      ]
     },
     "execution_count": 8,
     "metadata": {},
     "output_type": "execute_result"
    }
   ],
   "source": [
    "dataset.head()"
   ]
  },
  {
   "cell_type": "code",
   "execution_count": 9,
   "metadata": {},
   "outputs": [
    {
     "data": {
      "text/html": [
       "<div>\n",
       "<style scoped>\n",
       "    .dataframe tbody tr th:only-of-type {\n",
       "        vertical-align: middle;\n",
       "    }\n",
       "\n",
       "    .dataframe tbody tr th {\n",
       "        vertical-align: top;\n",
       "    }\n",
       "\n",
       "    .dataframe thead th {\n",
       "        text-align: right;\n",
       "    }\n",
       "</style>\n",
       "<table border=\"1\" class=\"dataframe\">\n",
       "  <thead>\n",
       "    <tr style=\"text-align: right;\">\n",
       "      <th></th>\n",
       "      <th>1960</th>\n",
       "      <th>1961</th>\n",
       "      <th>1962</th>\n",
       "      <th>1963</th>\n",
       "      <th>1964</th>\n",
       "      <th>1965</th>\n",
       "      <th>1966</th>\n",
       "      <th>1967</th>\n",
       "      <th>1968</th>\n",
       "      <th>1969</th>\n",
       "      <th>...</th>\n",
       "      <th>2012</th>\n",
       "      <th>2013</th>\n",
       "      <th>2014</th>\n",
       "      <th>2015</th>\n",
       "      <th>2016</th>\n",
       "      <th>2017</th>\n",
       "      <th>2018</th>\n",
       "      <th>2019</th>\n",
       "      <th>2020</th>\n",
       "      <th>2021</th>\n",
       "    </tr>\n",
       "  </thead>\n",
       "  <tbody>\n",
       "    <tr>\n",
       "      <td>259</td>\n",
       "      <td>3.032156e+09</td>\n",
       "      <td>3.071596e+09</td>\n",
       "      <td>3.124561e+09</td>\n",
       "      <td>3.189656e+09</td>\n",
       "      <td>3.255146e+09</td>\n",
       "      <td>3.322047e+09</td>\n",
       "      <td>3.392098e+09</td>\n",
       "      <td>3.461620e+09</td>\n",
       "      <td>3.532783e+09</td>\n",
       "      <td>3.606554e+09</td>\n",
       "      <td>...</td>\n",
       "      <td>7.089255e+09</td>\n",
       "      <td>7.175500e+09</td>\n",
       "      <td>7.261847e+09</td>\n",
       "      <td>7.347679e+09</td>\n",
       "      <td>7.433651e+09</td>\n",
       "      <td>7.519371e+09</td>\n",
       "      <td>7.602716e+09</td>\n",
       "      <td>7.683806e+09</td>\n",
       "      <td>7.763933e+09</td>\n",
       "      <td>7.836631e+09</td>\n",
       "    </tr>\n",
       "  </tbody>\n",
       "</table>\n",
       "<p>1 rows × 62 columns</p>\n",
       "</div>"
      ],
      "text/plain": [
       "             1960          1961          1962          1963          1964  \\\n",
       "259  3.032156e+09  3.071596e+09  3.124561e+09  3.189656e+09  3.255146e+09   \n",
       "\n",
       "             1965          1966          1967          1968          1969  \\\n",
       "259  3.322047e+09  3.392098e+09  3.461620e+09  3.532783e+09  3.606554e+09   \n",
       "\n",
       "     ...          2012          2013          2014          2015  \\\n",
       "259  ...  7.089255e+09  7.175500e+09  7.261847e+09  7.347679e+09   \n",
       "\n",
       "             2016          2017          2018          2019          2020  \\\n",
       "259  7.433651e+09  7.519371e+09  7.602716e+09  7.683806e+09  7.763933e+09   \n",
       "\n",
       "             2021  \n",
       "259  7.836631e+09  \n",
       "\n",
       "[1 rows x 62 columns]"
      ]
     },
     "execution_count": 9,
     "metadata": {},
     "output_type": "execute_result"
    }
   ],
   "source": [
    "dataset.dropna(how='all', axis='columns')"
   ]
  },
  {
   "cell_type": "markdown",
   "metadata": {},
   "source": [
    "### Step 2.c: Transpose data\n",
    "- It makes sense to have years in the rows\n",
    "- This can be done with `.transpose()`"
   ]
  },
  {
   "cell_type": "code",
   "execution_count": 10,
   "metadata": {},
   "outputs": [
    {
     "data": {
      "text/html": [
       "<div>\n",
       "<style scoped>\n",
       "    .dataframe tbody tr th:only-of-type {\n",
       "        vertical-align: middle;\n",
       "    }\n",
       "\n",
       "    .dataframe tbody tr th {\n",
       "        vertical-align: top;\n",
       "    }\n",
       "\n",
       "    .dataframe thead th {\n",
       "        text-align: right;\n",
       "    }\n",
       "</style>\n",
       "<table border=\"1\" class=\"dataframe\">\n",
       "  <thead>\n",
       "    <tr style=\"text-align: right;\">\n",
       "      <th></th>\n",
       "      <th>259</th>\n",
       "    </tr>\n",
       "  </thead>\n",
       "  <tbody>\n",
       "    <tr>\n",
       "      <td>1960</td>\n",
       "      <td>3.032156e+09</td>\n",
       "    </tr>\n",
       "    <tr>\n",
       "      <td>1961</td>\n",
       "      <td>3.071596e+09</td>\n",
       "    </tr>\n",
       "    <tr>\n",
       "      <td>1962</td>\n",
       "      <td>3.124561e+09</td>\n",
       "    </tr>\n",
       "    <tr>\n",
       "      <td>1963</td>\n",
       "      <td>3.189656e+09</td>\n",
       "    </tr>\n",
       "    <tr>\n",
       "      <td>1964</td>\n",
       "      <td>3.255146e+09</td>\n",
       "    </tr>\n",
       "    <tr>\n",
       "      <td>...</td>\n",
       "      <td>...</td>\n",
       "    </tr>\n",
       "    <tr>\n",
       "      <td>2018</td>\n",
       "      <td>7.602716e+09</td>\n",
       "    </tr>\n",
       "    <tr>\n",
       "      <td>2019</td>\n",
       "      <td>7.683806e+09</td>\n",
       "    </tr>\n",
       "    <tr>\n",
       "      <td>2020</td>\n",
       "      <td>7.763933e+09</td>\n",
       "    </tr>\n",
       "    <tr>\n",
       "      <td>2021</td>\n",
       "      <td>7.836631e+09</td>\n",
       "    </tr>\n",
       "    <tr>\n",
       "      <td>Unnamed: 66</td>\n",
       "      <td>NaN</td>\n",
       "    </tr>\n",
       "  </tbody>\n",
       "</table>\n",
       "<p>63 rows × 1 columns</p>\n",
       "</div>"
      ],
      "text/plain": [
       "                      259\n",
       "1960         3.032156e+09\n",
       "1961         3.071596e+09\n",
       "1962         3.124561e+09\n",
       "1963         3.189656e+09\n",
       "1964         3.255146e+09\n",
       "...                   ...\n",
       "2018         7.602716e+09\n",
       "2019         7.683806e+09\n",
       "2020         7.763933e+09\n",
       "2021         7.836631e+09\n",
       "Unnamed: 66           NaN\n",
       "\n",
       "[63 rows x 1 columns]"
      ]
     },
     "execution_count": 10,
     "metadata": {},
     "output_type": "execute_result"
    }
   ],
   "source": [
    "dataset=dataset.transpose()\n",
    "dataset"
   ]
  },
  {
   "cell_type": "code",
   "execution_count": null,
   "metadata": {},
   "outputs": [],
   "source": []
  },
  {
   "cell_type": "markdown",
   "metadata": {},
   "source": [
    "### Step 2.d: Rename column\n",
    "- The name 259 can be renamed as follows\n",
    "- This can be done as follows\n",
    "```.rename(columns={259:'World Population'})```"
   ]
  },
  {
   "cell_type": "code",
   "execution_count": 11,
   "metadata": {},
   "outputs": [
    {
     "data": {
      "text/html": [
       "<div>\n",
       "<style scoped>\n",
       "    .dataframe tbody tr th:only-of-type {\n",
       "        vertical-align: middle;\n",
       "    }\n",
       "\n",
       "    .dataframe tbody tr th {\n",
       "        vertical-align: top;\n",
       "    }\n",
       "\n",
       "    .dataframe thead th {\n",
       "        text-align: right;\n",
       "    }\n",
       "</style>\n",
       "<table border=\"1\" class=\"dataframe\">\n",
       "  <thead>\n",
       "    <tr style=\"text-align: right;\">\n",
       "      <th></th>\n",
       "      <th>World_Population</th>\n",
       "    </tr>\n",
       "  </thead>\n",
       "  <tbody>\n",
       "    <tr>\n",
       "      <td>1960</td>\n",
       "      <td>3.032156e+09</td>\n",
       "    </tr>\n",
       "    <tr>\n",
       "      <td>1961</td>\n",
       "      <td>3.071596e+09</td>\n",
       "    </tr>\n",
       "    <tr>\n",
       "      <td>1962</td>\n",
       "      <td>3.124561e+09</td>\n",
       "    </tr>\n",
       "    <tr>\n",
       "      <td>1963</td>\n",
       "      <td>3.189656e+09</td>\n",
       "    </tr>\n",
       "    <tr>\n",
       "      <td>1964</td>\n",
       "      <td>3.255146e+09</td>\n",
       "    </tr>\n",
       "    <tr>\n",
       "      <td>...</td>\n",
       "      <td>...</td>\n",
       "    </tr>\n",
       "    <tr>\n",
       "      <td>2018</td>\n",
       "      <td>7.602716e+09</td>\n",
       "    </tr>\n",
       "    <tr>\n",
       "      <td>2019</td>\n",
       "      <td>7.683806e+09</td>\n",
       "    </tr>\n",
       "    <tr>\n",
       "      <td>2020</td>\n",
       "      <td>7.763933e+09</td>\n",
       "    </tr>\n",
       "    <tr>\n",
       "      <td>2021</td>\n",
       "      <td>7.836631e+09</td>\n",
       "    </tr>\n",
       "    <tr>\n",
       "      <td>Unnamed: 66</td>\n",
       "      <td>NaN</td>\n",
       "    </tr>\n",
       "  </tbody>\n",
       "</table>\n",
       "<p>63 rows × 1 columns</p>\n",
       "</div>"
      ],
      "text/plain": [
       "             World_Population\n",
       "1960             3.032156e+09\n",
       "1961             3.071596e+09\n",
       "1962             3.124561e+09\n",
       "1963             3.189656e+09\n",
       "1964             3.255146e+09\n",
       "...                       ...\n",
       "2018             7.602716e+09\n",
       "2019             7.683806e+09\n",
       "2020             7.763933e+09\n",
       "2021             7.836631e+09\n",
       "Unnamed: 66               NaN\n",
       "\n",
       "[63 rows x 1 columns]"
      ]
     },
     "execution_count": 11,
     "metadata": {},
     "output_type": "execute_result"
    }
   ],
   "source": [
    "dataset=dataset.rename(columns={259:'World_Population'})\n",
    "dataset"
   ]
  },
  {
   "cell_type": "markdown",
   "metadata": {},
   "source": [
    "### Step 2.e: Visualize data\n",
    "- This is done to check data quality\n",
    "- You can plot the DataFrame with `.plot()`"
   ]
  },
  {
   "cell_type": "code",
   "execution_count": 12,
   "metadata": {},
   "outputs": [
    {
     "data": {
      "text/plain": [
       "<matplotlib.axes._subplots.AxesSubplot at 0x7f182b68c1d0>"
      ]
     },
     "execution_count": 12,
     "metadata": {},
     "output_type": "execute_result"
    },
    {
     "data": {
      "image/png": "[encoded data removed]",
      "text/plain": [
       "<Figure size 432x288 with 1 Axes>"
      ]
     },
     "metadata": {
      "needs_background": "light"
     },
     "output_type": "display_data"
    }
   ],
   "source": [
    "dataset.plot(color='r',alpha=0.99)"
   ]
  },
  {
   "cell_type": "markdown",
   "metadata": {},
   "source": [
    "## Step 3: Analyze\n",
    "- Feature selection\n",
    "- Model selection\n",
    "- Analyze data"
   ]
  },
  {
   "cell_type": "markdown",
   "metadata": {},
   "source": [
    "### Step 3.a: Calculate yearly percentage change\n",
    "- We want to explore the growth of the world population\n",
    "- First step is to calculate the yearly growth\n",
    "- This can be done with `pct_change()` ([docs](https://pandas.pydata.org/docs/reference/api/pandas.DataFrame.pct_change.html))\n",
    "- Add a new column `Yearly growth` with the growth in percentage"
   ]
  },
  {
   "cell_type": "code",
   "execution_count": 13,
   "metadata": {},
   "outputs": [
    {
     "data": {
      "text/html": [
       "<div>\n",
       "<style scoped>\n",
       "    .dataframe tbody tr th:only-of-type {\n",
       "        vertical-align: middle;\n",
       "    }\n",
       "\n",
       "    .dataframe tbody tr th {\n",
       "        vertical-align: top;\n",
       "    }\n",
       "\n",
       "    .dataframe thead th {\n",
       "        text-align: right;\n",
       "    }\n",
       "</style>\n",
       "<table border=\"1\" class=\"dataframe\">\n",
       "  <thead>\n",
       "    <tr style=\"text-align: right;\">\n",
       "      <th></th>\n",
       "      <th>World_Population</th>\n",
       "      <th>Yearly_Growth</th>\n",
       "    </tr>\n",
       "  </thead>\n",
       "  <tbody>\n",
       "    <tr>\n",
       "      <td>1960</td>\n",
       "      <td>3.032156e+09</td>\n",
       "      <td>NaN</td>\n",
       "    </tr>\n",
       "    <tr>\n",
       "      <td>1961</td>\n",
       "      <td>3.071596e+09</td>\n",
       "      <td>0.013007</td>\n",
       "    </tr>\n",
       "    <tr>\n",
       "      <td>1962</td>\n",
       "      <td>3.124561e+09</td>\n",
       "      <td>0.017243</td>\n",
       "    </tr>\n",
       "    <tr>\n",
       "      <td>1963</td>\n",
       "      <td>3.189656e+09</td>\n",
       "      <td>0.020833</td>\n",
       "    </tr>\n",
       "    <tr>\n",
       "      <td>1964</td>\n",
       "      <td>3.255146e+09</td>\n",
       "      <td>0.020532</td>\n",
       "    </tr>\n",
       "    <tr>\n",
       "      <td>...</td>\n",
       "      <td>...</td>\n",
       "      <td>...</td>\n",
       "    </tr>\n",
       "    <tr>\n",
       "      <td>2018</td>\n",
       "      <td>7.602716e+09</td>\n",
       "      <td>0.011084</td>\n",
       "    </tr>\n",
       "    <tr>\n",
       "      <td>2019</td>\n",
       "      <td>7.683806e+09</td>\n",
       "      <td>0.010666</td>\n",
       "    </tr>\n",
       "    <tr>\n",
       "      <td>2020</td>\n",
       "      <td>7.763933e+09</td>\n",
       "      <td>0.010428</td>\n",
       "    </tr>\n",
       "    <tr>\n",
       "      <td>2021</td>\n",
       "      <td>7.836631e+09</td>\n",
       "      <td>0.009364</td>\n",
       "    </tr>\n",
       "    <tr>\n",
       "      <td>Unnamed: 66</td>\n",
       "      <td>NaN</td>\n",
       "      <td>0.000000</td>\n",
       "    </tr>\n",
       "  </tbody>\n",
       "</table>\n",
       "<p>63 rows × 2 columns</p>\n",
       "</div>"
      ],
      "text/plain": [
       "             World_Population  Yearly_Growth\n",
       "1960             3.032156e+09            NaN\n",
       "1961             3.071596e+09       0.013007\n",
       "1962             3.124561e+09       0.017243\n",
       "1963             3.189656e+09       0.020833\n",
       "1964             3.255146e+09       0.020532\n",
       "...                       ...            ...\n",
       "2018             7.602716e+09       0.011084\n",
       "2019             7.683806e+09       0.010666\n",
       "2020             7.763933e+09       0.010428\n",
       "2021             7.836631e+09       0.009364\n",
       "Unnamed: 66               NaN       0.000000\n",
       "\n",
       "[63 rows x 2 columns]"
      ]
     },
     "execution_count": 13,
     "metadata": {},
     "output_type": "execute_result"
    }
   ],
   "source": [
    "dataset['Yearly_Growth']=dataset['World_Population'].pct_change()\n",
    "dataset"
   ]
  },
  {
   "cell_type": "code",
   "execution_count": 14,
   "metadata": {},
   "outputs": [
    {
     "data": {
      "text/html": [
       "<div>\n",
       "<style scoped>\n",
       "    .dataframe tbody tr th:only-of-type {\n",
       "        vertical-align: middle;\n",
       "    }\n",
       "\n",
       "    .dataframe tbody tr th {\n",
       "        vertical-align: top;\n",
       "    }\n",
       "\n",
       "    .dataframe thead th {\n",
       "        text-align: right;\n",
       "    }\n",
       "</style>\n",
       "<table border=\"1\" class=\"dataframe\">\n",
       "  <thead>\n",
       "    <tr style=\"text-align: right;\">\n",
       "      <th></th>\n",
       "      <th>World_Population</th>\n",
       "      <th>Yearly_Growth</th>\n",
       "    </tr>\n",
       "  </thead>\n",
       "  <tbody>\n",
       "    <tr>\n",
       "      <td>1960</td>\n",
       "      <td>3.032156e+09</td>\n",
       "      <td>NaN</td>\n",
       "    </tr>\n",
       "    <tr>\n",
       "      <td>1961</td>\n",
       "      <td>3.071596e+09</td>\n",
       "      <td>0.013007</td>\n",
       "    </tr>\n",
       "    <tr>\n",
       "      <td>1962</td>\n",
       "      <td>3.124561e+09</td>\n",
       "      <td>0.017243</td>\n",
       "    </tr>\n",
       "    <tr>\n",
       "      <td>1963</td>\n",
       "      <td>3.189656e+09</td>\n",
       "      <td>0.020833</td>\n",
       "    </tr>\n",
       "    <tr>\n",
       "      <td>1964</td>\n",
       "      <td>3.255146e+09</td>\n",
       "      <td>0.020532</td>\n",
       "    </tr>\n",
       "    <tr>\n",
       "      <td>...</td>\n",
       "      <td>...</td>\n",
       "      <td>...</td>\n",
       "    </tr>\n",
       "    <tr>\n",
       "      <td>2018</td>\n",
       "      <td>7.602716e+09</td>\n",
       "      <td>0.011084</td>\n",
       "    </tr>\n",
       "    <tr>\n",
       "      <td>2019</td>\n",
       "      <td>7.683806e+09</td>\n",
       "      <td>0.010666</td>\n",
       "    </tr>\n",
       "    <tr>\n",
       "      <td>2020</td>\n",
       "      <td>7.763933e+09</td>\n",
       "      <td>0.010428</td>\n",
       "    </tr>\n",
       "    <tr>\n",
       "      <td>2021</td>\n",
       "      <td>7.836631e+09</td>\n",
       "      <td>0.009364</td>\n",
       "    </tr>\n",
       "    <tr>\n",
       "      <td>Unnamed: 66</td>\n",
       "      <td>NaN</td>\n",
       "      <td>0.000000</td>\n",
       "    </tr>\n",
       "  </tbody>\n",
       "</table>\n",
       "<p>63 rows × 2 columns</p>\n",
       "</div>"
      ],
      "text/plain": [
       "             World_Population  Yearly_Growth\n",
       "1960             3.032156e+09            NaN\n",
       "1961             3.071596e+09       0.013007\n",
       "1962             3.124561e+09       0.017243\n",
       "1963             3.189656e+09       0.020833\n",
       "1964             3.255146e+09       0.020532\n",
       "...                       ...            ...\n",
       "2018             7.602716e+09       0.011084\n",
       "2019             7.683806e+09       0.010666\n",
       "2020             7.763933e+09       0.010428\n",
       "2021             7.836631e+09       0.009364\n",
       "Unnamed: 66               NaN       0.000000\n",
       "\n",
       "[63 rows x 2 columns]"
      ]
     },
     "execution_count": 14,
     "metadata": {},
     "output_type": "execute_result"
    }
   ],
   "source": [
    "dataset['Yearly_Growth']=dataset['World_Population'].pct_change()\n",
    "dataset"
   ]
  },
  {
   "cell_type": "markdown",
   "metadata": {},
   "source": [
    "### Step 3.b: Visualize the Yearly growth\n",
    "- Plot it with `.plot()`\n",
    "- This will give you an idea of the trend."
   ]
  },
  {
   "cell_type": "code",
   "execution_count": 15,
   "metadata": {},
   "outputs": [
    {
     "data": {
      "text/plain": [
       "<matplotlib.axes._subplots.AxesSubplot at 0x7f182c39e0d0>"
      ]
     },
     "execution_count": 15,
     "metadata": {},
     "output_type": "execute_result"
    },
    {
     "data": {
      "image/png": "[encoded data removed]",
      "text/plain": [
       "<Figure size 432x288 with 1 Axes>"
      ]
     },
     "metadata": {
      "needs_background": "light"
     },
     "output_type": "display_data"
    }
   ],
   "source": [
    "dataset['Yearly_Growth'].plot(color='m')"
   ]
  },
  {
   "cell_type": "markdown",
   "metadata": {},
   "source": [
    "### Step 3.c: Smooth the result\n",
    "- A great way is to smooth the result\n",
    "- This can show local tendencies\n",
    "- Calculate a 10-years rolling average by using [rolling(10)](https://pandas.pydata.org/docs/reference/api/pandas.DataFrame.rolling.html).[mean()](https://pandas.pydata.org/docs/reference/api/pandas.core.window.rolling.Rolling.mean.html)\n",
    "```Python\n",
    "dataset['Yearly growth'].rolling(10).mean()\n",
    "```\n",
    "- Visualize the result\n",
    "    - HINT: Make a plot containing `Yearly growth` and the new calculation.\n",
    "- What does that tell you?"
   ]
  },
  {
   "cell_type": "code",
   "execution_count": 16,
   "metadata": {},
   "outputs": [],
   "source": [
    "dataset['Smooth']=dataset['Yearly_Growth'].rolling(10).mean()"
   ]
  },
  {
   "cell_type": "code",
   "execution_count": 17,
   "metadata": {},
   "outputs": [
    {
     "data": {
      "text/plain": [
       "<matplotlib.axes._subplots.AxesSubplot at 0x7f1828c72090>"
      ]
     },
     "execution_count": 17,
     "metadata": {},
     "output_type": "execute_result"
    },
    {
     "data": {
      "image/png": "[encoded data removed]",
      "text/plain": [
       "<Figure size 432x288 with 1 Axes>"
      ]
     },
     "metadata": {
      "needs_background": "light"
     },
     "output_type": "display_data"
    }
   ],
   "source": [
    "dataset[['Smooth','Yearly_Growth']].plot()"
   ]
  },
  {
   "cell_type": "markdown",
   "metadata": {},
   "source": [
    "## Step 4: Report\n",
    "- Present findings\n",
    "- Visualize results\n",
    "- Credibility counts"
   ]
  },
  {
   "cell_type": "markdown",
   "metadata": {},
   "source": [
    "### Step 4.a: Transform data\n",
    "- To make plot more readable transform data to percentage\n",
    "    - HINT: Multiply columns data `Yearly growth` and the smoothed data by 100"
   ]
  },
  {
   "cell_type": "code",
   "execution_count": 18,
   "metadata": {},
   "outputs": [],
   "source": [
    "dataset[['Smooth','Yearly_Growth']] *=100"
   ]
  },
  {
   "cell_type": "code",
   "execution_count": 19,
   "metadata": {},
   "outputs": [
    {
     "data": {
      "text/plain": [
       "<matplotlib.axes._subplots.AxesSubplot at 0x7f1828c940d0>"
      ]
     },
     "execution_count": 19,
     "metadata": {},
     "output_type": "execute_result"
    },
    {
     "data": {
      "image/png": "[encoded data removed]",
      "text/plain": [
       "<Figure size 432x288 with 1 Axes>"
      ]
     },
     "metadata": {
      "needs_background": "light"
     },
     "output_type": "display_data"
    }
   ],
   "source": [
    "dataset[['Smooth','Yearly_Growth']].plot()"
   ]
  },
  {
   "cell_type": "markdown",
   "metadata": {},
   "source": [
    "### Step 4.b: Set title and labels on axis\n",
    "- In the plot set labels and axis\n",
    "    - `xlabel='Year'` the same for `ylabel` and `title`"
   ]
  },
  {
   "cell_type": "code",
   "execution_count": 24,
   "metadata": {},
   "outputs": [
    {
     "data": {
      "text/plain": [
       "[<matplotlib.lines.Line2D at 0x7f182872eb50>,\n",
       " <matplotlib.lines.Line2D at 0x7f1828736d90>]"
      ]
     },
     "execution_count": 24,
     "metadata": {},
     "output_type": "execute_result"
    },
    {
     "data": {
      "image/png": "[encoded data removed]",
      "text/plain": [
       "<Figure size 432x288 with 1 Axes>"
      ]
     },
     "metadata": {
      "needs_background": "light"
     },
     "output_type": "display_data"
    }
   ],
   "source": [
    "plt.title('World Population Growth')\n",
    "plt.xlabel('Year')\n",
    "plt.ylabel('Yearly_Growth')\n",
    "plt.plot(dataset[['Smooth','Yearly_Growth']])"
   ]
  },
  {
   "cell_type": "code",
   "execution_count": null,
   "metadata": {},
   "outputs": [],
   "source": []
  },
  {
   "cell_type": "markdown",
   "metadata": {},
   "source": [
    "### Step 4.c: Adding ranges on axis\n",
    "- Add range on y-axis to make the plot more readable.\n",
    "- Use `ylim=0`"
   ]
  },
  {
   "cell_type": "code",
   "execution_count": 48,
   "metadata": {},
   "outputs": [
    {
     "data": {
      "text/plain": [
       "[<matplotlib.lines.Line2D at 0x7f18281c94d0>,\n",
       " <matplotlib.lines.Line2D at 0x7f18281e4050>]"
      ]
     },
     "execution_count": 48,
     "metadata": {},
     "output_type": "execute_result"
    },
    {
     "data": {
      "image/png": "[encoded data removed]",
      "text/plain": [
       "<Figure size 432x288 with 1 Axes>"
      ]
     },
     "metadata": {
      "needs_background": "light"
     },
     "output_type": "display_data"
    }
   ],
   "source": [
    "plt.title('World Population Growth')\n",
    "plt.xlabel('Year')\n",
    "plt.ylabel('Yearly_Growth')\n",
    "plt.ylim=0\n",
    "plt.plot(dataset[['Smooth','Yearly_Growth']],)"
   ]
  },
  {
   "cell_type": "code",
   "execution_count": null,
   "metadata": {},
   "outputs": [],
   "source": [
    "dataset[['Smooth','Yearly_Growth']].plot(plt.title('World Population Growth'),plt.xlabel('Year'),plt.ylabel('Yearly_Growth'),ylim=1)"
   ]
  },
  {
   "cell_type": "markdown",
   "metadata": {},
   "source": [
    "## Step 5: Actions\n",
    "- Use insights\n",
    "- Measure impact\n",
    "- Main goal"
   ]
  }
 ],
 "metadata": {
  "kernelspec": {
   "display_name": "Python 3",
   "language": "python",
   "name": "python3"
  },
  "language_info": {
   "codemirror_mode": {
    "name": "ipython",
    "version": 3
   },
   "file_extension": ".py",
   "mimetype": "text/x-python",
   "name": "python",
   "nbconvert_exporter": "python",
   "pygments_lexer": "ipython3",
   "version": "3.7.4"
  }
 },
 "nbformat": 4,
 "nbformat_minor": 5
}
