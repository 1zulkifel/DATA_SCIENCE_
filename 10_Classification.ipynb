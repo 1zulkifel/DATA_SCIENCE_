{
  "cells": [
    {
      "cell_type": "markdown",
      "metadata": {
        "id": "view-in-github",
        "colab_type": "text"
      },
      "source": [
        "<a href=\"https://colab.research.google.com/github/1zulkifel/DATA_SCIENCE_/blob/main/10_Classification.ipynb\" target=\"_parent\"><img src=\"https://colab.research.google.com/assets/colab-badge.svg\" alt=\"Open In Colab\"/></a>"
      ]
    },
    {
      "cell_type": "markdown",
      "source": [
        "## Supervised Learning\n",
        " - Given a dataset of input-output pairs, learn a function to map inputs to outputs\n",
        " - There are different tasks - but we start to focus on **Classification**\n",
        " \n",
        " \n",
        " ### Classification\n",
        " - **Supervised learning**: the task of learning a function mapping an input point to a descrete category"
      ],
      "metadata": {
        "id": "uCZ56XZ3lAgn"
      },
      "id": "uCZ56XZ3lAgn"
    },
    {
      "cell_type": "markdown",
      "source": [
        "### Example: Iris Flower Dataset\n",
        "- [Kaggle Iris Flower Dataset](https://www.kaggle.com/arshid/iris-flower-dataset)\n",
        "- Consists of three classes: `Iris-setosa`, `Iris-versicolor`, and `Iris-virginica`\n",
        "- Given depedent features can we predict class"
      ],
      "metadata": {
        "id": "QUKZJH5SlSmz"
      },
      "id": "QUKZJH5SlSmz"
    },
    {
      "cell_type": "code",
      "source": [
        "import pandas as pd\n",
        "from sklearn.model_selection import train_test_split\n",
        "from sklearn.svm import SVC\n",
        "from sklearn.metrics import accuracy_score\n"
      ],
      "metadata": {
        "id": "EaOnAPv_lBw2"
      },
      "id": "EaOnAPv_lBw2",
      "execution_count": 4,
      "outputs": []
    },
    {
      "cell_type": "code",
      "source": [
        "data=pd.read_csv('/content/iris.csv',index_col=0)"
      ],
      "metadata": {
        "id": "Fyzz2tfulyh4"
      },
      "id": "Fyzz2tfulyh4",
      "execution_count": 7,
      "outputs": []
    },
    {
      "cell_type": "code",
      "source": [
        "data.head"
      ],
      "metadata": {
        "colab": {
          "base_uri": "https://localhost:8080/"
        },
        "id": "JukrTkMZmFeK",
        "outputId": "ca70ce3e-49dc-452b-a1b4-84f49cefb721"
      },
      "id": "JukrTkMZmFeK",
      "execution_count": 8,
      "outputs": [
        {
          "output_type": "execute_result",
          "data": {
            "text/plain": [
              "<bound method NDFrame.head of      SepalLengthCm  SepalWidthCm  PetalLengthCm  PetalWidthCm         Species\n",
              "Id                                                                           \n",
              "1              5.1           3.5            1.4           0.2     Iris-setosa\n",
              "2              4.9           3.0            1.4           0.2     Iris-setosa\n",
              "3              4.7           3.2            1.3           0.2     Iris-setosa\n",
              "4              4.6           3.1            1.5           0.2     Iris-setosa\n",
              "5              5.0           3.6            1.4           0.2     Iris-setosa\n",
              "..             ...           ...            ...           ...             ...\n",
              "146            6.7           3.0            5.2           2.3  Iris-virginica\n",
              "147            6.3           2.5            5.0           1.9  Iris-virginica\n",
              "148            6.5           3.0            5.2           2.0  Iris-virginica\n",
              "149            6.2           3.4            5.4           2.3  Iris-virginica\n",
              "150            5.9           3.0            5.1           1.8  Iris-virginica\n",
              "\n",
              "[150 rows x 5 columns]>"
            ]
          },
          "metadata": {},
          "execution_count": 8
        }
      ]
    },
    {
      "cell_type": "code",
      "source": [
        "data['Species'].value_counts()"
      ],
      "metadata": {
        "colab": {
          "base_uri": "https://localhost:8080/"
        },
        "id": "TiYy7ynTmHOh",
        "outputId": "c6f3c10e-4c22-4d08-e54e-9ea89f3371b4"
      },
      "id": "TiYy7ynTmHOh",
      "execution_count": 9,
      "outputs": [
        {
          "output_type": "execute_result",
          "data": {
            "text/plain": [
              "Iris-setosa        50\n",
              "Iris-versicolor    50\n",
              "Iris-virginica     50\n",
              "Name: Species, dtype: int64"
            ]
          },
          "metadata": {},
          "execution_count": 9
        }
      ]
    },
    {
      "cell_type": "code",
      "source": [
        "data.isna().any()"
      ],
      "metadata": {
        "colab": {
          "base_uri": "https://localhost:8080/"
        },
        "id": "dqtdgX5imWU6",
        "outputId": "d1e45b19-2e9a-4dd9-d74d-b809322cb725"
      },
      "id": "dqtdgX5imWU6",
      "execution_count": 10,
      "outputs": [
        {
          "output_type": "execute_result",
          "data": {
            "text/plain": [
              "SepalLengthCm    False\n",
              "SepalWidthCm     False\n",
              "PetalLengthCm    False\n",
              "PetalWidthCm     False\n",
              "Species          False\n",
              "dtype: bool"
            ]
          },
          "metadata": {},
          "execution_count": 10
        }
      ]
    },
    {
      "cell_type": "code",
      "source": [
        ""
      ],
      "metadata": {
        "id": "xxL6OSp9mY4p"
      },
      "id": "xxL6OSp9mY4p",
      "execution_count": 10,
      "outputs": []
    },
    {
      "cell_type": "markdown",
      "source": [
        "### Machine Leaning\n",
        "- A Few Machine Learning Models\n",
        "    - [`SVC`](https://scikit-learn.org/stable/modules/generated/sklearn.svm.SVC.html) C-Support Vector Classification.\n",
        "    - [`KNeighborsClassifier`](https://scikit-learn.org/stable/modules/generated/sklearn.neighbors.KNeighborsClassifier.html) Classifier implementing the k-nearest neighbors vote.\n",
        "- Steps\n",
        "    - **Step 1**: Assign independent features (those predicting) to `X`\n",
        "    - **Step 2**: Assign classes (labels/dependent features) to `y`\n",
        "    - **Step 3**: Divide into training and test sets\n",
        "    ```Python\n",
        "X_train, X_test, y_train, y_test = train_test_split(X, y, test_size=0.2, random_state=42)\n",
        "```\n",
        "    - **Step 4**: Create the model\n",
        "    ```Python\n",
        "svc = SVC()\n",
        "```\n",
        "    - **Step 5**: Fit the model\n",
        "    ```Python\n",
        "svc.fit(X_train, y_train)\n",
        "```\n",
        "    - **Step 6**: Predict with the model\n",
        "    ```Python\n",
        "y_pred = svc.predict(X_test)\n",
        "```\n",
        "    - **Step 7**: Test the accuracy\n",
        "    ```Python\n",
        "accuracy_score(y_test, y_pred)\n",
        "```"
      ],
      "metadata": {
        "id": "xGR1-idPmdE-"
      },
      "id": "xGR1-idPmdE-"
    },
    {
      "cell_type": "code",
      "source": [
        "X = data.drop('Species', axis=1)\n",
        "y = data['Species']"
      ],
      "metadata": {
        "id": "8gWCE-cCmpIj"
      },
      "id": "8gWCE-cCmpIj",
      "execution_count": 11,
      "outputs": []
    },
    {
      "cell_type": "code",
      "source": [
        "X_train, X_test, y_train, y_test = train_test_split(X, y, test_size=0.2, random_state=42)"
      ],
      "metadata": {
        "id": "6KYwiuFfmtJS"
      },
      "id": "6KYwiuFfmtJS",
      "execution_count": 12,
      "outputs": []
    },
    {
      "cell_type": "code",
      "source": [
        "svc = SVC(gamma='auto')\n",
        "svc.fit(X_train, y_train)\n",
        "y_pred = svc.predict(X_test)\n",
        "accuracy_score(y_test, y_pred)"
      ],
      "metadata": {
        "colab": {
          "base_uri": "https://localhost:8080/"
        },
        "id": "ADJMo139mytw",
        "outputId": "989987da-39b5-4c92-e4dd-7489e8384480"
      },
      "id": "ADJMo139mytw",
      "execution_count": 13,
      "outputs": [
        {
          "output_type": "execute_result",
          "data": {
            "text/plain": [
              "1.0"
            ]
          },
          "metadata": {},
          "execution_count": 13
        }
      ]
    },
    {
      "cell_type": "markdown",
      "source": [
        "### Finding most important feature\n",
        "- [`permutation_importance`](https://scikit-learn.org/stable/modules/generated/sklearn.inspection.permutation_importance.html) Permutation importance for feature evaluation.\n",
        "- Use the `permutation_importance` to calculate it.\n",
        "```Python\n",
        "perm_importance = permutation_importance(svc, X_test, y_test)\n",
        "```\n",
        "- The results will be found in `perm_importance.importances_mean`"
      ],
      "metadata": {
        "id": "3GktkqxDm5Mo"
      },
      "id": "3GktkqxDm5Mo"
    },
    {
      "cell_type": "code",
      "source": [
        "from sklearn.inspection import permutation_importance"
      ],
      "metadata": {
        "id": "yROUKLvCm1_k"
      },
      "id": "yROUKLvCm1_k",
      "execution_count": 14,
      "outputs": []
    },
    {
      "cell_type": "code",
      "source": [
        "perm_importance = permutation_importance(svc, X_test, y_test)\n",
        "perm_importance.importances_mean"
      ],
      "metadata": {
        "colab": {
          "base_uri": "https://localhost:8080/"
        },
        "id": "Dgi-zD33m_0t",
        "outputId": "bdc116d6-228e-4f3b-9029-836980170ccf"
      },
      "id": "Dgi-zD33m_0t",
      "execution_count": 15,
      "outputs": [
        {
          "output_type": "execute_result",
          "data": {
            "text/plain": [
              "array([0.02      , 0.00666667, 0.57333333, 0.19333333])"
            ]
          },
          "metadata": {},
          "execution_count": 15
        }
      ]
    },
    {
      "cell_type": "markdown",
      "source": [
        "### Visualize the features by importance\n",
        "- The most important features are given by `perm_importance.importances_mean.argsort()`\n",
        "    - HINT: assign it to `sorted_idx`\n",
        "- To visualize it we can create a DataFrame\n",
        "```Python\n",
        "pd.DataFrame(perm_importance.importances_mean[sorted_idx], X_test.columns[sorted_idx], columns=['Value'])\n",
        "```\n",
        "- Then make a `barh` plot (use `figsize`)"
      ],
      "metadata": {
        "id": "0zmiZ2rBnMfK"
      },
      "id": "0zmiZ2rBnMfK"
    },
    {
      "cell_type": "code",
      "source": [
        "sorted_idx = perm_importance.importances_mean.argsort()\n",
        "df = pd.DataFrame(perm_importance.importances_mean[sorted_idx], X_test.columns[sorted_idx], columns=['Value'])\n",
        "df.plot.barh()"
      ],
      "metadata": {
        "colab": {
          "base_uri": "https://localhost:8080/",
          "height": 282
        },
        "id": "Sfkn88w4nHWS",
        "outputId": "6c5d09a6-1086-4f57-fb45-a159183fd1b8"
      },
      "id": "Sfkn88w4nHWS",
      "execution_count": 16,
      "outputs": [
        {
          "output_type": "execute_result",
          "data": {
            "text/plain": [
              "<matplotlib.axes._subplots.AxesSubplot at 0x7fd88b290e10>"
            ]
          },
          "metadata": {},
          "execution_count": 16
        },
        {
          "output_type": "display_data",
          "data": {
            "text/plain": [
              "<Figure size 432x288 with 1 Axes>"
            ],
            "image/png": "[encoded data removed]"
          },
          "metadata": {
            "needs_background": "light"
          }
        }
      ]
    },
    {
      "cell_type": "code",
      "source": [
        "color_map = {'Iris-setosa': 'b', 'Iris-versicolor': 'r', 'Iris-virginica': 'y'}\n",
        "\n",
        "colors = data['Species'].apply(lambda x: color_map[x])\n",
        "\n",
        "data.plot.scatter(x='PetalLengthCm', y='PetalWidthCm', c=colors)"
      ],
      "metadata": {
        "colab": {
          "base_uri": "https://localhost:8080/",
          "height": 296
        },
        "id": "r1oLpKEcnXS6",
        "outputId": "8e93ca0b-9158-49f6-b81c-751a208cf0d3"
      },
      "id": "r1oLpKEcnXS6",
      "execution_count": 17,
      "outputs": [
        {
          "output_type": "execute_result",
          "data": {
            "text/plain": [
              "<matplotlib.axes._subplots.AxesSubplot at 0x7fd88b18f250>"
            ]
          },
          "metadata": {},
          "execution_count": 17
        },
        {
          "output_type": "display_data",
          "data": {
            "text/plain": [
              "<Figure size 432x288 with 1 Axes>"
            ],
            "image/png": "[encoded data removed]"
          },
          "metadata": {
            "needs_background": "light"
          }
        }
      ]
    },
    {
      "cell_type": "markdown",
      "source": [
        "### KNeighborsClassifier\n",
        "- It is similar for `KNeighborsClassifier`"
      ],
      "metadata": {
        "id": "XpjFvODdnvTW"
      },
      "id": "XpjFvODdnvTW"
    },
    {
      "cell_type": "code",
      "source": [
        "from sklearn.neighbors import KNeighborsClassifier"
      ],
      "metadata": {
        "id": "cjXiODL9niZp"
      },
      "id": "cjXiODL9niZp",
      "execution_count": 18,
      "outputs": []
    },
    {
      "cell_type": "code",
      "source": [
        "kn = KNeighborsClassifier()\n",
        "kn.fit(X_train, y_train)\n",
        "y_pred = kn.predict(X_test)\n",
        "accuracy_score(y_test, y_pred)"
      ],
      "metadata": {
        "colab": {
          "base_uri": "https://localhost:8080/"
        },
        "id": "97uPP7NfnzV-",
        "outputId": "be9d8671-cd2e-4067-b25b-fe1a787b590d"
      },
      "id": "97uPP7NfnzV-",
      "execution_count": 19,
      "outputs": [
        {
          "output_type": "execute_result",
          "data": {
            "text/plain": [
              "1.0"
            ]
          },
          "metadata": {},
          "execution_count": 19
        }
      ]
    },
    {
      "cell_type": "code",
      "source": [
        "erm_importance = permutation_importance(kn, X_test, y_test)\n",
        "perm_importance.importances_mean"
      ],
      "metadata": {
        "colab": {
          "base_uri": "https://localhost:8080/"
        },
        "id": "_KaZTIwbn5Lk",
        "outputId": "957143f3-aa51-4915-f945-a0ceb8a1aa2d"
      },
      "id": "_KaZTIwbn5Lk",
      "execution_count": 20,
      "outputs": [
        {
          "output_type": "execute_result",
          "data": {
            "text/plain": [
              "array([0.02      , 0.00666667, 0.57333333, 0.19333333])"
            ]
          },
          "metadata": {},
          "execution_count": 20
        }
      ]
    },
    {
      "cell_type": "code",
      "source": [
        "perm_importance = permutation_importance(kn, X_test, y_test)\n",
        "perm_importance.importances_mean"
      ],
      "metadata": {
        "colab": {
          "base_uri": "https://localhost:8080/"
        },
        "id": "Hub_KY7xoI44",
        "outputId": "8af8fb2b-5db2-4bab-a8df-65804e899307"
      },
      "id": "Hub_KY7xoI44",
      "execution_count": 21,
      "outputs": [
        {
          "output_type": "execute_result",
          "data": {
            "text/plain": [
              "array([0.00666667, 0.02666667, 0.57333333, 0.17333333])"
            ]
          },
          "metadata": {},
          "execution_count": 21
        }
      ]
    },
    {
      "cell_type": "code",
      "source": [
        ""
      ],
      "metadata": {
        "id": "XtLi6oQLo6fp"
      },
      "id": "XtLi6oQLo6fp",
      "execution_count": 21,
      "outputs": []
    }
  ],
  "metadata": {
    "kernelspec": {
      "display_name": "Python 3",
      "language": "python",
      "name": "python3"
    },
    "language_info": {
      "codemirror_mode": {
        "name": "ipython",
        "version": 3
      },
      "file_extension": ".py",
      "mimetype": "text/x-python",
      "name": "python",
      "nbconvert_exporter": "python",
      "pygments_lexer": "ipython3",
      "version": "3.7.4"
    },
    "colab": {
      "name": "10  - Classification.ipynb",
      "provenance": [],
      "collapsed_sections": [],
      "include_colab_link": true
    },
    "gpuClass": "standard",
    "accelerator": "GPU"
  },
  "nbformat": 4,
  "nbformat_minor": 5
}