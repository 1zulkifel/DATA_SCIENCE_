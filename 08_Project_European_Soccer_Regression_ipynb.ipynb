{
  "nbformat": 4,
  "nbformat_minor": 0,
  "metadata": {
    "colab": {
      "name": "08 - Project - European Soccer Regression.ipynb.ipynb",
      "provenance": [],
      "collapsed_sections": [],
      "authorship_tag": "ABX9TyN0Zg804Wloy8YcNW1cRqyC",
      "include_colab_link": true
    },
    "kernelspec": {
      "name": "python3",
      "display_name": "Python 3"
    },
    "language_info": {
      "name": "python"
    },
    "gpuClass": "standard"
  },
  "cells": [
    {
      "cell_type": "markdown",
      "metadata": {
        "id": "view-in-github",
        "colab_type": "text"
      },
      "source": [
        "<a href=\"https://colab.research.google.com/github/1zulkifel/DATA_SCIENCE_/blob/main/08_Project_European_Soccer_Regression_ipynb.ipynb\" target=\"_parent\"><img src=\"https://colab.research.google.com/assets/colab-badge.svg\" alt=\"Open In Colab\"/></a>"
      ]
    },
    {
      "cell_type": "markdown",
      "source": [
        "## Goal of Project\n",
        "- Make a model to predict players overall rating based on metrics\n",
        "- This is a subset of the Kaggle dataset [European Soccer Database](https://www.kaggle.com/hugomathien/soccer)\n",
        "    - A bigger project is to predict outcomes of games"
      ],
      "metadata": {
        "id": "khuXUCy42wMx"
      }
    },
    {
      "cell_type": "markdown",
      "source": [
        "## Step 1: Acquire\n",
        "- Explore problem\n",
        "- Identify data\n",
        "- Import data"
      ],
      "metadata": {
        "id": "8wJkNcqA25EE"
      }
    },
    {
      "cell_type": "markdown",
      "source": [
        "### Step 1.a: Import libraries\n",
        "- Execute the cell below (SHIFT + ENTER)"
      ],
      "metadata": {
        "id": "Ry8rMpno25WS"
      }
    },
    {
      "cell_type": "code",
      "source": [
        "import pandas as pd\n",
        "from sklearn.linear_model import LinearRegression\n",
        "from sklearn.model_selection import train_test_split\n",
        "from sklearn.metrics import r2_score\n",
        "import matplotlib.pyplot as plt\n",
        "%matplotlib inline"
      ],
      "metadata": {
        "id": "Krkz06P240p4"
      },
      "execution_count": 1,
      "outputs": []
    },
    {
      "cell_type": "markdown",
      "source": [
        "### Step 1.b: Read the data\n",
        "- Use ```pd.read_parquet()``` to read the file `files/soccer.parquet`\n",
        "- NOTE: Remember to assign the result to a variable (e.g., ```data```)\n",
        "- Apply ```.head()``` on the data to see all is as expected"
      ],
      "metadata": {
        "id": "ROG-u-aq25b8"
      }
    },
    {
      "cell_type": "code",
      "source": [
        "data=pd.read_parquet('/content/soccer.parquet') \n"
      ],
      "metadata": {
        "id": "3lmHKEiD5Gag"
      },
      "execution_count": 2,
      "outputs": []
    },
    {
      "cell_type": "code",
      "source": [
        "data.head()"
      ],
      "metadata": {
        "colab": {
          "base_uri": "https://localhost:8080/",
          "height": 504
        },
        "id": "1P3Yd_IuIlF_",
        "outputId": "137ad3ea-1682-4387-dbfc-dc9117cdda3d"
      },
      "execution_count": 3,
      "outputs": [
        {
          "output_type": "execute_result",
          "data": {
            "text/plain": [
              "    player_fifa_api_id  player_api_id                 date  overall_rating  \\\n",
              "id                                                                           \n",
              "1               218353         505942  2016-02-18 00:00:00            67.0   \n",
              "2               218353         505942  2015-11-19 00:00:00            67.0   \n",
              "3               218353         505942  2015-09-21 00:00:00            62.0   \n",
              "4               218353         505942  2015-03-20 00:00:00            61.0   \n",
              "5               218353         505942  2007-02-22 00:00:00            61.0   \n",
              "\n",
              "    potential preferred_foot attacking_work_rate defensive_work_rate  \\\n",
              "id                                                                     \n",
              "1        71.0          right              medium              medium   \n",
              "2        71.0          right              medium              medium   \n",
              "3        66.0          right              medium              medium   \n",
              "4        65.0          right              medium              medium   \n",
              "5        65.0          right              medium              medium   \n",
              "\n",
              "    crossing  finishing  ...  vision  penalties  marking  standing_tackle  \\\n",
              "id                       ...                                                \n",
              "1       49.0       44.0  ...    54.0       48.0     65.0             69.0   \n",
              "2       49.0       44.0  ...    54.0       48.0     65.0             69.0   \n",
              "3       49.0       44.0  ...    54.0       48.0     65.0             66.0   \n",
              "4       48.0       43.0  ...    53.0       47.0     62.0             63.0   \n",
              "5       48.0       43.0  ...    53.0       47.0     62.0             63.0   \n",
              "\n",
              "    sliding_tackle  gk_diving  gk_handling  gk_kicking  gk_positioning  \\\n",
              "id                                                                       \n",
              "1             69.0        6.0         11.0        10.0             8.0   \n",
              "2             69.0        6.0         11.0        10.0             8.0   \n",
              "3             69.0        6.0         11.0        10.0             8.0   \n",
              "4             66.0        5.0         10.0         9.0             7.0   \n",
              "5             66.0        5.0         10.0         9.0             7.0   \n",
              "\n",
              "    gk_reflexes  \n",
              "id               \n",
              "1           8.0  \n",
              "2           8.0  \n",
              "3           8.0  \n",
              "4           7.0  \n",
              "5           7.0  \n",
              "\n",
              "[5 rows x 41 columns]"
            ],
            "text/html": [
              "\n",
              "  <div id=\"df-94b64fec-8348-49c3-9e97-b41707132355\">\n",
              "    <div class=\"colab-df-container\">\n",
              "      <div>\n",
              "<style scoped>\n",
              "    .dataframe tbody tr th:only-of-type {\n",
              "        vertical-align: middle;\n",
              "    }\n",
              "\n",
              "    .dataframe tbody tr th {\n",
              "        vertical-align: top;\n",
              "    }\n",
              "\n",
              "    .dataframe thead th {\n",
              "        text-align: right;\n",
              "    }\n",
              "</style>\n",
              "<table border=\"1\" class=\"dataframe\">\n",
              "  <thead>\n",
              "    <tr style=\"text-align: right;\">\n",
              "      <th></th>\n",
              "      <th>player_fifa_api_id</th>\n",
              "      <th>player_api_id</th>\n",
              "      <th>date</th>\n",
              "      <th>overall_rating</th>\n",
              "      <th>potential</th>\n",
              "      <th>preferred_foot</th>\n",
              "      <th>attacking_work_rate</th>\n",
              "      <th>defensive_work_rate</th>\n",
              "      <th>crossing</th>\n",
              "      <th>finishing</th>\n",
              "      <th>...</th>\n",
              "      <th>vision</th>\n",
              "      <th>penalties</th>\n",
              "      <th>marking</th>\n",
              "      <th>standing_tackle</th>\n",
              "      <th>sliding_tackle</th>\n",
              "      <th>gk_diving</th>\n",
              "      <th>gk_handling</th>\n",
              "      <th>gk_kicking</th>\n",
              "      <th>gk_positioning</th>\n",
              "      <th>gk_reflexes</th>\n",
              "    </tr>\n",
              "    <tr>\n",
              "      <th>id</th>\n",
              "      <th></th>\n",
              "      <th></th>\n",
              "      <th></th>\n",
              "      <th></th>\n",
              "      <th></th>\n",
              "      <th></th>\n",
              "      <th></th>\n",
              "      <th></th>\n",
              "      <th></th>\n",
              "      <th></th>\n",
              "      <th></th>\n",
              "      <th></th>\n",
              "      <th></th>\n",
              "      <th></th>\n",
              "      <th></th>\n",
              "      <th></th>\n",
              "      <th></th>\n",
              "      <th></th>\n",
              "      <th></th>\n",
              "      <th></th>\n",
              "      <th></th>\n",
              "    </tr>\n",
              "  </thead>\n",
              "  <tbody>\n",
              "    <tr>\n",
              "      <th>1</th>\n",
              "      <td>218353</td>\n",
              "      <td>505942</td>\n",
              "      <td>2016-02-18 00:00:00</td>\n",
              "      <td>67.0</td>\n",
              "      <td>71.0</td>\n",
              "      <td>right</td>\n",
              "      <td>medium</td>\n",
              "      <td>medium</td>\n",
              "      <td>49.0</td>\n",
              "      <td>44.0</td>\n",
              "      <td>...</td>\n",
              "      <td>54.0</td>\n",
              "      <td>48.0</td>\n",
              "      <td>65.0</td>\n",
              "      <td>69.0</td>\n",
              "      <td>69.0</td>\n",
              "      <td>6.0</td>\n",
              "      <td>11.0</td>\n",
              "      <td>10.0</td>\n",
              "      <td>8.0</td>\n",
              "      <td>8.0</td>\n",
              "    </tr>\n",
              "    <tr>\n",
              "      <th>2</th>\n",
              "      <td>218353</td>\n",
              "      <td>505942</td>\n",
              "      <td>2015-11-19 00:00:00</td>\n",
              "      <td>67.0</td>\n",
              "      <td>71.0</td>\n",
              "      <td>right</td>\n",
              "      <td>medium</td>\n",
              "      <td>medium</td>\n",
              "      <td>49.0</td>\n",
              "      <td>44.0</td>\n",
              "      <td>...</td>\n",
              "      <td>54.0</td>\n",
              "      <td>48.0</td>\n",
              "      <td>65.0</td>\n",
              "      <td>69.0</td>\n",
              "      <td>69.0</td>\n",
              "      <td>6.0</td>\n",
              "      <td>11.0</td>\n",
              "      <td>10.0</td>\n",
              "      <td>8.0</td>\n",
              "      <td>8.0</td>\n",
              "    </tr>\n",
              "    <tr>\n",
              "      <th>3</th>\n",
              "      <td>218353</td>\n",
              "      <td>505942</td>\n",
              "      <td>2015-09-21 00:00:00</td>\n",
              "      <td>62.0</td>\n",
              "      <td>66.0</td>\n",
              "      <td>right</td>\n",
              "      <td>medium</td>\n",
              "      <td>medium</td>\n",
              "      <td>49.0</td>\n",
              "      <td>44.0</td>\n",
              "      <td>...</td>\n",
              "      <td>54.0</td>\n",
              "      <td>48.0</td>\n",
              "      <td>65.0</td>\n",
              "      <td>66.0</td>\n",
              "      <td>69.0</td>\n",
              "      <td>6.0</td>\n",
              "      <td>11.0</td>\n",
              "      <td>10.0</td>\n",
              "      <td>8.0</td>\n",
              "      <td>8.0</td>\n",
              "    </tr>\n",
              "    <tr>\n",
              "      <th>4</th>\n",
              "      <td>218353</td>\n",
              "      <td>505942</td>\n",
              "      <td>2015-03-20 00:00:00</td>\n",
              "      <td>61.0</td>\n",
              "      <td>65.0</td>\n",
              "      <td>right</td>\n",
              "      <td>medium</td>\n",
              "      <td>medium</td>\n",
              "      <td>48.0</td>\n",
              "      <td>43.0</td>\n",
              "      <td>...</td>\n",
              "      <td>53.0</td>\n",
              "      <td>47.0</td>\n",
              "      <td>62.0</td>\n",
              "      <td>63.0</td>\n",
              "      <td>66.0</td>\n",
              "      <td>5.0</td>\n",
              "      <td>10.0</td>\n",
              "      <td>9.0</td>\n",
              "      <td>7.0</td>\n",
              "      <td>7.0</td>\n",
              "    </tr>\n",
              "    <tr>\n",
              "      <th>5</th>\n",
              "      <td>218353</td>\n",
              "      <td>505942</td>\n",
              "      <td>2007-02-22 00:00:00</td>\n",
              "      <td>61.0</td>\n",
              "      <td>65.0</td>\n",
              "      <td>right</td>\n",
              "      <td>medium</td>\n",
              "      <td>medium</td>\n",
              "      <td>48.0</td>\n",
              "      <td>43.0</td>\n",
              "      <td>...</td>\n",
              "      <td>53.0</td>\n",
              "      <td>47.0</td>\n",
              "      <td>62.0</td>\n",
              "      <td>63.0</td>\n",
              "      <td>66.0</td>\n",
              "      <td>5.0</td>\n",
              "      <td>10.0</td>\n",
              "      <td>9.0</td>\n",
              "      <td>7.0</td>\n",
              "      <td>7.0</td>\n",
              "    </tr>\n",
              "  </tbody>\n",
              "</table>\n",
              "<p>5 rows × 41 columns</p>\n",
              "</div>\n",
              "      <button class=\"colab-df-convert\" onclick=\"convertToInteractive('df-94b64fec-8348-49c3-9e97-b41707132355')\"\n",
              "              title=\"Convert this dataframe to an interactive table.\"\n",
              "              style=\"display:none;\">\n",
              "        \n",
              "  <svg xmlns=\"http://www.w3.org/2000/svg\" height=\"24px\"viewBox=\"0 0 24 24\"\n",
              "       width=\"24px\">\n",
              "    <path d=\"M0 0h24v24H0V0z\" fill=\"none\"/>\n",
              "    <path d=\"M18.56 5.44l.94 2.06.94-2.06 2.06-.94-2.06-.94-.94-2.06-.94 2.06-2.06.94zm-11 1L8.5 8.5l.94-2.06 2.06-.94-2.06-.94L8.5 2.5l-.94 2.06-2.06.94zm10 10l.94 2.06.94-2.06 2.06-.94-2.06-.94-.94-2.06-.94 2.06-2.06.94z\"/><path d=\"M17.41 7.96l-1.37-1.37c-.4-.4-.92-.59-1.43-.59-.52 0-1.04.2-1.43.59L10.3 9.45l-7.72 7.72c-.78.78-.78 2.05 0 2.83L4 21.41c.39.39.9.59 1.41.59.51 0 1.02-.2 1.41-.59l7.78-7.78 2.81-2.81c.8-.78.8-2.07 0-2.86zM5.41 20L4 18.59l7.72-7.72 1.47 1.35L5.41 20z\"/>\n",
              "  </svg>\n",
              "      </button>\n",
              "      \n",
              "  <style>\n",
              "    .colab-df-container {\n",
              "      display:flex;\n",
              "      flex-wrap:wrap;\n",
              "      gap: 12px;\n",
              "    }\n",
              "\n",
              "    .colab-df-convert {\n",
              "      background-color: #E8F0FE;\n",
              "      border: none;\n",
              "      border-radius: 50%;\n",
              "      cursor: pointer;\n",
              "      display: none;\n",
              "      fill: #1967D2;\n",
              "      height: 32px;\n",
              "      padding: 0 0 0 0;\n",
              "      width: 32px;\n",
              "    }\n",
              "\n",
              "    .colab-df-convert:hover {\n",
              "      background-color: #E2EBFA;\n",
              "      box-shadow: 0px 1px 2px rgba(60, 64, 67, 0.3), 0px 1px 3px 1px rgba(60, 64, 67, 0.15);\n",
              "      fill: #174EA6;\n",
              "    }\n",
              "\n",
              "    [theme=dark] .colab-df-convert {\n",
              "      background-color: #3B4455;\n",
              "      fill: #D2E3FC;\n",
              "    }\n",
              "\n",
              "    [theme=dark] .colab-df-convert:hover {\n",
              "      background-color: #434B5C;\n",
              "      box-shadow: 0px 1px 3px 1px rgba(0, 0, 0, 0.15);\n",
              "      filter: drop-shadow(0px 1px 2px rgba(0, 0, 0, 0.3));\n",
              "      fill: #FFFFFF;\n",
              "    }\n",
              "  </style>\n",
              "\n",
              "      <script>\n",
              "        const buttonEl =\n",
              "          document.querySelector('#df-94b64fec-8348-49c3-9e97-b41707132355 button.colab-df-convert');\n",
              "        buttonEl.style.display =\n",
              "          google.colab.kernel.accessAllowed ? 'block' : 'none';\n",
              "\n",
              "        async function convertToInteractive(key) {\n",
              "          const element = document.querySelector('#df-94b64fec-8348-49c3-9e97-b41707132355');\n",
              "          const dataTable =\n",
              "            await google.colab.kernel.invokeFunction('convertToInteractive',\n",
              "                                                     [key], {});\n",
              "          if (!dataTable) return;\n",
              "\n",
              "          const docLinkHtml = 'Like what you see? Visit the ' +\n",
              "            '<a target=\"_blank\" href=https://colab.research.google.com/notebooks/data_table.ipynb>data table notebook</a>'\n",
              "            + ' to learn more about interactive tables.';\n",
              "          element.innerHTML = '';\n",
              "          dataTable['output_type'] = 'display_data';\n",
              "          await google.colab.output.renderOutput(dataTable, element);\n",
              "          const docLink = document.createElement('div');\n",
              "          docLink.innerHTML = docLinkHtml;\n",
              "          element.appendChild(docLink);\n",
              "        }\n",
              "      </script>\n",
              "    </div>\n",
              "  </div>\n",
              "  "
            ]
          },
          "metadata": {},
          "execution_count": 3
        }
      ]
    },
    {
      "cell_type": "markdown",
      "source": [
        "### Step 1.c: Data size\n",
        "- HINT: `len(data)`"
      ],
      "metadata": {
        "id": "LpEDWpQ63Fm9"
      }
    },
    {
      "cell_type": "code",
      "source": [
        "len(data)"
      ],
      "metadata": {
        "colab": {
          "base_uri": "https://localhost:8080/"
        },
        "id": "YGi-RmQrIvNW",
        "outputId": "1f63a67a-413a-4318-fb0e-ec1a530f8f1e"
      },
      "execution_count": 4,
      "outputs": [
        {
          "output_type": "execute_result",
          "data": {
            "text/plain": [
              "183978"
            ]
          },
          "metadata": {},
          "execution_count": 4
        }
      ]
    },
    {
      "cell_type": "markdown",
      "source": [
        "## Step 2: Prepare\n",
        "- Explore data\n",
        "- Visualize ideas\n",
        "- Cleaning data"
      ],
      "metadata": {
        "id": "So8V8i5C3FqT"
      }
    },
    {
      "cell_type": "markdown",
      "source": [
        "### Step 2.a: Inspect the data\n",
        "- There are many metrics\n",
        "- To keep it simple let's keep the numeric\n",
        "    - HINT: find them with `.dtypes`\n",
        "- You can select all columns of numeric data types as follows `.select_dtypes(include='number')`\n",
        "    - HINT: assign all the numeric columns to your variable (this is needed for the model, as it does not understand non-numeric features)."
      ],
      "metadata": {
        "id": "4wbSPoIH3Ft_"
      }
    },
    {
      "cell_type": "code",
      "source": [
        "data.dtypes"
      ],
      "metadata": {
        "colab": {
          "base_uri": "https://localhost:8080/"
        },
        "id": "nX0lXMPyI5pp",
        "outputId": "ff79ce20-9482-46f1-c99a-605dad6f99d3"
      },
      "execution_count": 5,
      "outputs": [
        {
          "output_type": "execute_result",
          "data": {
            "text/plain": [
              "player_fifa_api_id       int64\n",
              "player_api_id            int64\n",
              "date                    object\n",
              "overall_rating         float64\n",
              "potential              float64\n",
              "preferred_foot          object\n",
              "attacking_work_rate     object\n",
              "defensive_work_rate     object\n",
              "crossing               float64\n",
              "finishing              float64\n",
              "heading_accuracy       float64\n",
              "short_passing          float64\n",
              "volleys                float64\n",
              "dribbling              float64\n",
              "curve                  float64\n",
              "free_kick_accuracy     float64\n",
              "long_passing           float64\n",
              "ball_control           float64\n",
              "acceleration           float64\n",
              "sprint_speed           float64\n",
              "agility                float64\n",
              "reactions              float64\n",
              "balance                float64\n",
              "shot_power             float64\n",
              "jumping                float64\n",
              "stamina                float64\n",
              "strength               float64\n",
              "long_shots             float64\n",
              "aggression             float64\n",
              "interceptions          float64\n",
              "positioning            float64\n",
              "vision                 float64\n",
              "penalties              float64\n",
              "marking                float64\n",
              "standing_tackle        float64\n",
              "sliding_tackle         float64\n",
              "gk_diving              float64\n",
              "gk_handling            float64\n",
              "gk_kicking             float64\n",
              "gk_positioning         float64\n",
              "gk_reflexes            float64\n",
              "dtype: object"
            ]
          },
          "metadata": {},
          "execution_count": 5
        }
      ]
    },
    {
      "cell_type": "code",
      "source": [
        "data.select_dtypes(include='number')"
      ],
      "metadata": {
        "colab": {
          "base_uri": "https://localhost:8080/",
          "height": 519
        },
        "id": "8pfS2408JQDM",
        "outputId": "bc747e27-2b22-41d8-dbf6-e82d765abc53"
      },
      "execution_count": 6,
      "outputs": [
        {
          "output_type": "execute_result",
          "data": {
            "text/plain": [
              "        player_fifa_api_id  player_api_id  overall_rating  potential  \\\n",
              "id                                                                     \n",
              "1                   218353         505942            67.0       71.0   \n",
              "2                   218353         505942            67.0       71.0   \n",
              "3                   218353         505942            62.0       66.0   \n",
              "4                   218353         505942            61.0       65.0   \n",
              "5                   218353         505942            61.0       65.0   \n",
              "...                    ...            ...             ...        ...   \n",
              "183974              102359          39902            83.0       85.0   \n",
              "183975              102359          39902            78.0       80.0   \n",
              "183976              102359          39902            77.0       80.0   \n",
              "183977              102359          39902            78.0       81.0   \n",
              "183978              102359          39902            80.0       81.0   \n",
              "\n",
              "        crossing  finishing  heading_accuracy  short_passing  volleys  \\\n",
              "id                                                                      \n",
              "1           49.0       44.0              71.0           61.0     44.0   \n",
              "2           49.0       44.0              71.0           61.0     44.0   \n",
              "3           49.0       44.0              71.0           61.0     44.0   \n",
              "4           48.0       43.0              70.0           60.0     43.0   \n",
              "5           48.0       43.0              70.0           60.0     43.0   \n",
              "...          ...        ...               ...            ...      ...   \n",
              "183974      84.0       77.0              59.0           89.0     77.0   \n",
              "183975      74.0       76.0              53.0           84.0     77.0   \n",
              "183976      74.0       71.0              53.0           84.0     77.0   \n",
              "183977      74.0       64.0              57.0           86.0     77.0   \n",
              "183978      74.0       68.0              57.0           88.0     77.0   \n",
              "\n",
              "        dribbling  ...  vision  penalties  marking  standing_tackle  \\\n",
              "id                 ...                                                \n",
              "1            51.0  ...    54.0       48.0     65.0             69.0   \n",
              "2            51.0  ...    54.0       48.0     65.0             69.0   \n",
              "3            51.0  ...    54.0       48.0     65.0             66.0   \n",
              "4            50.0  ...    53.0       47.0     62.0             63.0   \n",
              "5            50.0  ...    53.0       47.0     62.0             63.0   \n",
              "...           ...  ...     ...        ...      ...              ...   \n",
              "183974       84.0  ...    88.0       83.0     22.0             31.0   \n",
              "183975       85.0  ...    88.0       70.0     32.0             31.0   \n",
              "183976       85.0  ...    88.0       70.0     32.0             31.0   \n",
              "183977       87.0  ...    88.0       53.0     28.0             32.0   \n",
              "183978       87.0  ...    88.0       53.0     38.0             32.0   \n",
              "\n",
              "        sliding_tackle  gk_diving  gk_handling  gk_kicking  gk_positioning  \\\n",
              "id                                                                           \n",
              "1                 69.0        6.0         11.0        10.0             8.0   \n",
              "2                 69.0        6.0         11.0        10.0             8.0   \n",
              "3                 69.0        6.0         11.0        10.0             8.0   \n",
              "4                 66.0        5.0         10.0         9.0             7.0   \n",
              "5                 66.0        5.0         10.0         9.0             7.0   \n",
              "...                ...        ...          ...         ...             ...   \n",
              "183974            30.0        9.0         20.0        84.0            20.0   \n",
              "183975            30.0        9.0         20.0        73.0            20.0   \n",
              "183976            30.0        9.0         20.0        73.0            20.0   \n",
              "183977            30.0        9.0         20.0        73.0            20.0   \n",
              "183978            30.0        9.0          9.0        78.0             7.0   \n",
              "\n",
              "        gk_reflexes  \n",
              "id                   \n",
              "1               8.0  \n",
              "2               8.0  \n",
              "3               8.0  \n",
              "4               7.0  \n",
              "5               7.0  \n",
              "...             ...  \n",
              "183974         20.0  \n",
              "183975         20.0  \n",
              "183976         20.0  \n",
              "183977         20.0  \n",
              "183978         15.0  \n",
              "\n",
              "[183978 rows x 37 columns]"
            ],
            "text/html": [
              "\n",
              "  <div id=\"df-4294c420-35be-4c27-90a5-7ff7df87cb52\">\n",
              "    <div class=\"colab-df-container\">\n",
              "      <div>\n",
              "<style scoped>\n",
              "    .dataframe tbody tr th:only-of-type {\n",
              "        vertical-align: middle;\n",
              "    }\n",
              "\n",
              "    .dataframe tbody tr th {\n",
              "        vertical-align: top;\n",
              "    }\n",
              "\n",
              "    .dataframe thead th {\n",
              "        text-align: right;\n",
              "    }\n",
              "</style>\n",
              "<table border=\"1\" class=\"dataframe\">\n",
              "  <thead>\n",
              "    <tr style=\"text-align: right;\">\n",
              "      <th></th>\n",
              "      <th>player_fifa_api_id</th>\n",
              "      <th>player_api_id</th>\n",
              "      <th>overall_rating</th>\n",
              "      <th>potential</th>\n",
              "      <th>crossing</th>\n",
              "      <th>finishing</th>\n",
              "      <th>heading_accuracy</th>\n",
              "      <th>short_passing</th>\n",
              "      <th>volleys</th>\n",
              "      <th>dribbling</th>\n",
              "      <th>...</th>\n",
              "      <th>vision</th>\n",
              "      <th>penalties</th>\n",
              "      <th>marking</th>\n",
              "      <th>standing_tackle</th>\n",
              "      <th>sliding_tackle</th>\n",
              "      <th>gk_diving</th>\n",
              "      <th>gk_handling</th>\n",
              "      <th>gk_kicking</th>\n",
              "      <th>gk_positioning</th>\n",
              "      <th>gk_reflexes</th>\n",
              "    </tr>\n",
              "    <tr>\n",
              "      <th>id</th>\n",
              "      <th></th>\n",
              "      <th></th>\n",
              "      <th></th>\n",
              "      <th></th>\n",
              "      <th></th>\n",
              "      <th></th>\n",
              "      <th></th>\n",
              "      <th></th>\n",
              "      <th></th>\n",
              "      <th></th>\n",
              "      <th></th>\n",
              "      <th></th>\n",
              "      <th></th>\n",
              "      <th></th>\n",
              "      <th></th>\n",
              "      <th></th>\n",
              "      <th></th>\n",
              "      <th></th>\n",
              "      <th></th>\n",
              "      <th></th>\n",
              "      <th></th>\n",
              "    </tr>\n",
              "  </thead>\n",
              "  <tbody>\n",
              "    <tr>\n",
              "      <th>1</th>\n",
              "      <td>218353</td>\n",
              "      <td>505942</td>\n",
              "      <td>67.0</td>\n",
              "      <td>71.0</td>\n",
              "      <td>49.0</td>\n",
              "      <td>44.0</td>\n",
              "      <td>71.0</td>\n",
              "      <td>61.0</td>\n",
              "      <td>44.0</td>\n",
              "      <td>51.0</td>\n",
              "      <td>...</td>\n",
              "      <td>54.0</td>\n",
              "      <td>48.0</td>\n",
              "      <td>65.0</td>\n",
              "      <td>69.0</td>\n",
              "      <td>69.0</td>\n",
              "      <td>6.0</td>\n",
              "      <td>11.0</td>\n",
              "      <td>10.0</td>\n",
              "      <td>8.0</td>\n",
              "      <td>8.0</td>\n",
              "    </tr>\n",
              "    <tr>\n",
              "      <th>2</th>\n",
              "      <td>218353</td>\n",
              "      <td>505942</td>\n",
              "      <td>67.0</td>\n",
              "      <td>71.0</td>\n",
              "      <td>49.0</td>\n",
              "      <td>44.0</td>\n",
              "      <td>71.0</td>\n",
              "      <td>61.0</td>\n",
              "      <td>44.0</td>\n",
              "      <td>51.0</td>\n",
              "      <td>...</td>\n",
              "      <td>54.0</td>\n",
              "      <td>48.0</td>\n",
              "      <td>65.0</td>\n",
              "      <td>69.0</td>\n",
              "      <td>69.0</td>\n",
              "      <td>6.0</td>\n",
              "      <td>11.0</td>\n",
              "      <td>10.0</td>\n",
              "      <td>8.0</td>\n",
              "      <td>8.0</td>\n",
              "    </tr>\n",
              "    <tr>\n",
              "      <th>3</th>\n",
              "      <td>218353</td>\n",
              "      <td>505942</td>\n",
              "      <td>62.0</td>\n",
              "      <td>66.0</td>\n",
              "      <td>49.0</td>\n",
              "      <td>44.0</td>\n",
              "      <td>71.0</td>\n",
              "      <td>61.0</td>\n",
              "      <td>44.0</td>\n",
              "      <td>51.0</td>\n",
              "      <td>...</td>\n",
              "      <td>54.0</td>\n",
              "      <td>48.0</td>\n",
              "      <td>65.0</td>\n",
              "      <td>66.0</td>\n",
              "      <td>69.0</td>\n",
              "      <td>6.0</td>\n",
              "      <td>11.0</td>\n",
              "      <td>10.0</td>\n",
              "      <td>8.0</td>\n",
              "      <td>8.0</td>\n",
              "    </tr>\n",
              "    <tr>\n",
              "      <th>4</th>\n",
              "      <td>218353</td>\n",
              "      <td>505942</td>\n",
              "      <td>61.0</td>\n",
              "      <td>65.0</td>\n",
              "      <td>48.0</td>\n",
              "      <td>43.0</td>\n",
              "      <td>70.0</td>\n",
              "      <td>60.0</td>\n",
              "      <td>43.0</td>\n",
              "      <td>50.0</td>\n",
              "      <td>...</td>\n",
              "      <td>53.0</td>\n",
              "      <td>47.0</td>\n",
              "      <td>62.0</td>\n",
              "      <td>63.0</td>\n",
              "      <td>66.0</td>\n",
              "      <td>5.0</td>\n",
              "      <td>10.0</td>\n",
              "      <td>9.0</td>\n",
              "      <td>7.0</td>\n",
              "      <td>7.0</td>\n",
              "    </tr>\n",
              "    <tr>\n",
              "      <th>5</th>\n",
              "      <td>218353</td>\n",
              "      <td>505942</td>\n",
              "      <td>61.0</td>\n",
              "      <td>65.0</td>\n",
              "      <td>48.0</td>\n",
              "      <td>43.0</td>\n",
              "      <td>70.0</td>\n",
              "      <td>60.0</td>\n",
              "      <td>43.0</td>\n",
              "      <td>50.0</td>\n",
              "      <td>...</td>\n",
              "      <td>53.0</td>\n",
              "      <td>47.0</td>\n",
              "      <td>62.0</td>\n",
              "      <td>63.0</td>\n",
              "      <td>66.0</td>\n",
              "      <td>5.0</td>\n",
              "      <td>10.0</td>\n",
              "      <td>9.0</td>\n",
              "      <td>7.0</td>\n",
              "      <td>7.0</td>\n",
              "    </tr>\n",
              "    <tr>\n",
              "      <th>...</th>\n",
              "      <td>...</td>\n",
              "      <td>...</td>\n",
              "      <td>...</td>\n",
              "      <td>...</td>\n",
              "      <td>...</td>\n",
              "      <td>...</td>\n",
              "      <td>...</td>\n",
              "      <td>...</td>\n",
              "      <td>...</td>\n",
              "      <td>...</td>\n",
              "      <td>...</td>\n",
              "      <td>...</td>\n",
              "      <td>...</td>\n",
              "      <td>...</td>\n",
              "      <td>...</td>\n",
              "      <td>...</td>\n",
              "      <td>...</td>\n",
              "      <td>...</td>\n",
              "      <td>...</td>\n",
              "      <td>...</td>\n",
              "      <td>...</td>\n",
              "    </tr>\n",
              "    <tr>\n",
              "      <th>183974</th>\n",
              "      <td>102359</td>\n",
              "      <td>39902</td>\n",
              "      <td>83.0</td>\n",
              "      <td>85.0</td>\n",
              "      <td>84.0</td>\n",
              "      <td>77.0</td>\n",
              "      <td>59.0</td>\n",
              "      <td>89.0</td>\n",
              "      <td>77.0</td>\n",
              "      <td>84.0</td>\n",
              "      <td>...</td>\n",
              "      <td>88.0</td>\n",
              "      <td>83.0</td>\n",
              "      <td>22.0</td>\n",
              "      <td>31.0</td>\n",
              "      <td>30.0</td>\n",
              "      <td>9.0</td>\n",
              "      <td>20.0</td>\n",
              "      <td>84.0</td>\n",
              "      <td>20.0</td>\n",
              "      <td>20.0</td>\n",
              "    </tr>\n",
              "    <tr>\n",
              "      <th>183975</th>\n",
              "      <td>102359</td>\n",
              "      <td>39902</td>\n",
              "      <td>78.0</td>\n",
              "      <td>80.0</td>\n",
              "      <td>74.0</td>\n",
              "      <td>76.0</td>\n",
              "      <td>53.0</td>\n",
              "      <td>84.0</td>\n",
              "      <td>77.0</td>\n",
              "      <td>85.0</td>\n",
              "      <td>...</td>\n",
              "      <td>88.0</td>\n",
              "      <td>70.0</td>\n",
              "      <td>32.0</td>\n",
              "      <td>31.0</td>\n",
              "      <td>30.0</td>\n",
              "      <td>9.0</td>\n",
              "      <td>20.0</td>\n",
              "      <td>73.0</td>\n",
              "      <td>20.0</td>\n",
              "      <td>20.0</td>\n",
              "    </tr>\n",
              "    <tr>\n",
              "      <th>183976</th>\n",
              "      <td>102359</td>\n",
              "      <td>39902</td>\n",
              "      <td>77.0</td>\n",
              "      <td>80.0</td>\n",
              "      <td>74.0</td>\n",
              "      <td>71.0</td>\n",
              "      <td>53.0</td>\n",
              "      <td>84.0</td>\n",
              "      <td>77.0</td>\n",
              "      <td>85.0</td>\n",
              "      <td>...</td>\n",
              "      <td>88.0</td>\n",
              "      <td>70.0</td>\n",
              "      <td>32.0</td>\n",
              "      <td>31.0</td>\n",
              "      <td>30.0</td>\n",
              "      <td>9.0</td>\n",
              "      <td>20.0</td>\n",
              "      <td>73.0</td>\n",
              "      <td>20.0</td>\n",
              "      <td>20.0</td>\n",
              "    </tr>\n",
              "    <tr>\n",
              "      <th>183977</th>\n",
              "      <td>102359</td>\n",
              "      <td>39902</td>\n",
              "      <td>78.0</td>\n",
              "      <td>81.0</td>\n",
              "      <td>74.0</td>\n",
              "      <td>64.0</td>\n",
              "      <td>57.0</td>\n",
              "      <td>86.0</td>\n",
              "      <td>77.0</td>\n",
              "      <td>87.0</td>\n",
              "      <td>...</td>\n",
              "      <td>88.0</td>\n",
              "      <td>53.0</td>\n",
              "      <td>28.0</td>\n",
              "      <td>32.0</td>\n",
              "      <td>30.0</td>\n",
              "      <td>9.0</td>\n",
              "      <td>20.0</td>\n",
              "      <td>73.0</td>\n",
              "      <td>20.0</td>\n",
              "      <td>20.0</td>\n",
              "    </tr>\n",
              "    <tr>\n",
              "      <th>183978</th>\n",
              "      <td>102359</td>\n",
              "      <td>39902</td>\n",
              "      <td>80.0</td>\n",
              "      <td>81.0</td>\n",
              "      <td>74.0</td>\n",
              "      <td>68.0</td>\n",
              "      <td>57.0</td>\n",
              "      <td>88.0</td>\n",
              "      <td>77.0</td>\n",
              "      <td>87.0</td>\n",
              "      <td>...</td>\n",
              "      <td>88.0</td>\n",
              "      <td>53.0</td>\n",
              "      <td>38.0</td>\n",
              "      <td>32.0</td>\n",
              "      <td>30.0</td>\n",
              "      <td>9.0</td>\n",
              "      <td>9.0</td>\n",
              "      <td>78.0</td>\n",
              "      <td>7.0</td>\n",
              "      <td>15.0</td>\n",
              "    </tr>\n",
              "  </tbody>\n",
              "</table>\n",
              "<p>183978 rows × 37 columns</p>\n",
              "</div>\n",
              "      <button class=\"colab-df-convert\" onclick=\"convertToInteractive('df-4294c420-35be-4c27-90a5-7ff7df87cb52')\"\n",
              "              title=\"Convert this dataframe to an interactive table.\"\n",
              "              style=\"display:none;\">\n",
              "        \n",
              "  <svg xmlns=\"http://www.w3.org/2000/svg\" height=\"24px\"viewBox=\"0 0 24 24\"\n",
              "       width=\"24px\">\n",
              "    <path d=\"M0 0h24v24H0V0z\" fill=\"none\"/>\n",
              "    <path d=\"M18.56 5.44l.94 2.06.94-2.06 2.06-.94-2.06-.94-.94-2.06-.94 2.06-2.06.94zm-11 1L8.5 8.5l.94-2.06 2.06-.94-2.06-.94L8.5 2.5l-.94 2.06-2.06.94zm10 10l.94 2.06.94-2.06 2.06-.94-2.06-.94-.94-2.06-.94 2.06-2.06.94z\"/><path d=\"M17.41 7.96l-1.37-1.37c-.4-.4-.92-.59-1.43-.59-.52 0-1.04.2-1.43.59L10.3 9.45l-7.72 7.72c-.78.78-.78 2.05 0 2.83L4 21.41c.39.39.9.59 1.41.59.51 0 1.02-.2 1.41-.59l7.78-7.78 2.81-2.81c.8-.78.8-2.07 0-2.86zM5.41 20L4 18.59l7.72-7.72 1.47 1.35L5.41 20z\"/>\n",
              "  </svg>\n",
              "      </button>\n",
              "      \n",
              "  <style>\n",
              "    .colab-df-container {\n",
              "      display:flex;\n",
              "      flex-wrap:wrap;\n",
              "      gap: 12px;\n",
              "    }\n",
              "\n",
              "    .colab-df-convert {\n",
              "      background-color: #E8F0FE;\n",
              "      border: none;\n",
              "      border-radius: 50%;\n",
              "      cursor: pointer;\n",
              "      display: none;\n",
              "      fill: #1967D2;\n",
              "      height: 32px;\n",
              "      padding: 0 0 0 0;\n",
              "      width: 32px;\n",
              "    }\n",
              "\n",
              "    .colab-df-convert:hover {\n",
              "      background-color: #E2EBFA;\n",
              "      box-shadow: 0px 1px 2px rgba(60, 64, 67, 0.3), 0px 1px 3px 1px rgba(60, 64, 67, 0.15);\n",
              "      fill: #174EA6;\n",
              "    }\n",
              "\n",
              "    [theme=dark] .colab-df-convert {\n",
              "      background-color: #3B4455;\n",
              "      fill: #D2E3FC;\n",
              "    }\n",
              "\n",
              "    [theme=dark] .colab-df-convert:hover {\n",
              "      background-color: #434B5C;\n",
              "      box-shadow: 0px 1px 3px 1px rgba(0, 0, 0, 0.15);\n",
              "      filter: drop-shadow(0px 1px 2px rgba(0, 0, 0, 0.3));\n",
              "      fill: #FFFFFF;\n",
              "    }\n",
              "  </style>\n",
              "\n",
              "      <script>\n",
              "        const buttonEl =\n",
              "          document.querySelector('#df-4294c420-35be-4c27-90a5-7ff7df87cb52 button.colab-df-convert');\n",
              "        buttonEl.style.display =\n",
              "          google.colab.kernel.accessAllowed ? 'block' : 'none';\n",
              "\n",
              "        async function convertToInteractive(key) {\n",
              "          const element = document.querySelector('#df-4294c420-35be-4c27-90a5-7ff7df87cb52');\n",
              "          const dataTable =\n",
              "            await google.colab.kernel.invokeFunction('convertToInteractive',\n",
              "                                                     [key], {});\n",
              "          if (!dataTable) return;\n",
              "\n",
              "          const docLinkHtml = 'Like what you see? Visit the ' +\n",
              "            '<a target=\"_blank\" href=https://colab.research.google.com/notebooks/data_table.ipynb>data table notebook</a>'\n",
              "            + ' to learn more about interactive tables.';\n",
              "          element.innerHTML = '';\n",
              "          dataTable['output_type'] = 'display_data';\n",
              "          await google.colab.output.renderOutput(dataTable, element);\n",
              "          const docLink = document.createElement('div');\n",
              "          docLink.innerHTML = docLinkHtml;\n",
              "          element.appendChild(docLink);\n",
              "        }\n",
              "      </script>\n",
              "    </div>\n",
              "  </div>\n",
              "  "
            ]
          },
          "metadata": {},
          "execution_count": 6
        }
      ]
    },
    {
      "cell_type": "markdown",
      "source": [
        "### Step 2.b: Check for null (missing) values\n",
        "- Data often is missing entries - there can be many reasons for this\n",
        "- We need to deal with that (will do later in course)\n",
        "- Use ```.isnull().any()```\n",
        "- See how many have null values (Assuming `data` contains your data)\n",
        "```Python\n",
        "data.isnull().sum()/len(data)*100\n",
        "```"
      ],
      "metadata": {
        "id": "uPCPK75p3Fxu"
      }
    },
    {
      "cell_type": "code",
      "source": [
        "data.isnull().sum()/len(data)*100"
      ],
      "metadata": {
        "colab": {
          "base_uri": "https://localhost:8080/"
        },
        "id": "7W9S1HeIJe42",
        "outputId": "afb80174-896d-442e-ae46-72c34b2a2b11"
      },
      "execution_count": 7,
      "outputs": [
        {
          "output_type": "execute_result",
          "data": {
            "text/plain": [
              "player_fifa_api_id     0.000000\n",
              "player_api_id          0.000000\n",
              "date                   0.000000\n",
              "overall_rating         0.454402\n",
              "potential              0.454402\n",
              "preferred_foot         0.454402\n",
              "attacking_work_rate    1.755645\n",
              "defensive_work_rate    0.454402\n",
              "crossing               0.454402\n",
              "finishing              0.454402\n",
              "heading_accuracy       0.454402\n",
              "short_passing          0.454402\n",
              "volleys                1.474633\n",
              "dribbling              0.454402\n",
              "curve                  1.474633\n",
              "free_kick_accuracy     0.454402\n",
              "long_passing           0.454402\n",
              "ball_control           0.454402\n",
              "acceleration           0.454402\n",
              "sprint_speed           0.454402\n",
              "agility                1.474633\n",
              "reactions              0.454402\n",
              "balance                1.474633\n",
              "shot_power             0.454402\n",
              "jumping                1.474633\n",
              "stamina                0.454402\n",
              "strength               0.454402\n",
              "long_shots             0.454402\n",
              "aggression             0.454402\n",
              "interceptions          0.454402\n",
              "positioning            0.454402\n",
              "vision                 1.474633\n",
              "penalties              0.454402\n",
              "marking                0.454402\n",
              "standing_tackle        0.454402\n",
              "sliding_tackle         1.474633\n",
              "gk_diving              0.454402\n",
              "gk_handling            0.454402\n",
              "gk_kicking             0.454402\n",
              "gk_positioning         0.454402\n",
              "gk_reflexes            0.454402\n",
              "dtype: float64"
            ]
          },
          "metadata": {},
          "execution_count": 7
        }
      ]
    },
    {
      "cell_type": "markdown",
      "source": [
        "### Step 2.c: Drop missing data\n",
        "- Remove rows with missing data\n",
        "- HINT: `.dropna()`"
      ],
      "metadata": {
        "id": "55p4zaBs3F1F"
      }
    },
    {
      "cell_type": "code",
      "source": [
        "len(data), len(data.dropna())"
      ],
      "metadata": {
        "colab": {
          "base_uri": "https://localhost:8080/"
        },
        "id": "Z6kkr6WyJ2Nw",
        "outputId": "b80215a5-faa1-498f-8b80-62630f21fd88"
      },
      "execution_count": 8,
      "outputs": [
        {
          "output_type": "execute_result",
          "data": {
            "text/plain": [
              "(183978, 180354)"
            ]
          },
          "metadata": {},
          "execution_count": 8
        }
      ]
    },
    {
      "cell_type": "code",
      "source": [
        "data = data.dropna()"
      ],
      "metadata": {
        "id": "dUbnSsOHPDyx"
      },
      "execution_count": 9,
      "outputs": []
    },
    {
      "cell_type": "code",
      "source": [
        "len(data)"
      ],
      "metadata": {
        "colab": {
          "base_uri": "https://localhost:8080/"
        },
        "id": "-lyOacGFPF-D",
        "outputId": "9902cc4c-405e-4c5c-fda7-68e3bf2cd9db"
      },
      "execution_count": 10,
      "outputs": [
        {
          "output_type": "execute_result",
          "data": {
            "text/plain": [
              "180354"
            ]
          },
          "metadata": {},
          "execution_count": 10
        }
      ]
    },
    {
      "cell_type": "markdown",
      "source": [
        "### Step 2.d: Visualize data\n",
        "- Make a histogram of the `overall_rating`\n",
        "- This gives you an understanding of the data\n",
        "- What does it tell you?"
      ],
      "metadata": {
        "id": "Gu_x9NwV3cuw"
      }
    },
    {
      "cell_type": "code",
      "source": [
        "data['overall_rating'].plot.hist(bins=20)"
      ],
      "metadata": {
        "colab": {
          "base_uri": "https://localhost:8080/",
          "height": 282
        },
        "id": "SxmyJvoEKDt4",
        "outputId": "54187f0d-3089-452e-d4fb-067f0d88c3fd"
      },
      "execution_count": 11,
      "outputs": [
        {
          "output_type": "execute_result",
          "data": {
            "text/plain": [
              "<matplotlib.axes._subplots.AxesSubplot at 0x7f8b7c2f4d10>"
            ]
          },
          "metadata": {},
          "execution_count": 11
        },
        {
          "output_type": "display_data",
          "data": {
            "text/plain": [
              "<Figure size 432x288 with 1 Axes>"
            ],
            "image/png": "[encoded data removed]"
          },
          "metadata": {
            "needs_background": "light"
          }
        }
      ]
    },
    {
      "cell_type": "code",
      "source": [
        "data['overall_rating'].describe()"
      ],
      "metadata": {
        "colab": {
          "base_uri": "https://localhost:8080/"
        },
        "id": "6D_Ie1IPKp6G",
        "outputId": "31815b4a-d907-4aa8-a4fd-bd640b9862e1"
      },
      "execution_count": 12,
      "outputs": [
        {
          "output_type": "execute_result",
          "data": {
            "text/plain": [
              "count    180354.000000\n",
              "mean         68.635317\n",
              "std           7.027950\n",
              "min          33.000000\n",
              "25%          64.000000\n",
              "50%          69.000000\n",
              "75%          73.000000\n",
              "max          94.000000\n",
              "Name: overall_rating, dtype: float64"
            ]
          },
          "metadata": {},
          "execution_count": 12
        }
      ]
    },
    {
      "cell_type": "markdown",
      "source": [
        "## Step 3: Analyze\n",
        "- Feature selection\n",
        "- Model selection\n",
        "- Analyze data"
      ],
      "metadata": {
        "id": "2Fy7Po0p3czn"
      }
    },
    {
      "cell_type": "markdown",
      "source": [
        "### Step 3.a: Feature and target selection\n",
        "- The target data is given by `overall_rating`\n",
        "- As we do not have a description of the date, let's learn a bit about it\n",
        "    - HINT: Use `data.corr()['overall_rating'].sort_values(ascending=False)`\n",
        "- For simplicity de-select features you do not thing should be part of the analysis\n",
        "- Create DataFrames `X` and `y` containing the features and target, respectively.\n",
        "    - HINT: To get all columns except one use `.drop(['overall_rating', <insert other here>], axis=1)`\n",
        "    - HINT: Keep `y` as a DataFrame for simplicity later"
      ],
      "metadata": {
        "id": "_onipto33c3U"
      }
    },
    {
      "cell_type": "code",
      "source": [
        "data.corr()['overall_rating'].sort_values(ascending=False)"
      ],
      "metadata": {
        "colab": {
          "base_uri": "https://localhost:8080/"
        },
        "id": "dP22s1AKPggy",
        "outputId": "3189502d-7802-43aa-f3f5-649d97b22814"
      },
      "execution_count": 13,
      "outputs": [
        {
          "output_type": "execute_result",
          "data": {
            "text/plain": [
              "overall_rating        1.000000\n",
              "reactions             0.771856\n",
              "potential             0.765435\n",
              "short_passing         0.458243\n",
              "ball_control          0.443991\n",
              "long_passing          0.434525\n",
              "vision                0.431493\n",
              "shot_power            0.428053\n",
              "penalties             0.392715\n",
              "long_shots            0.392668\n",
              "positioning           0.368978\n",
              "volleys               0.361739\n",
              "curve                 0.357566\n",
              "crossing              0.357320\n",
              "dribbling             0.354191\n",
              "free_kick_accuracy    0.349800\n",
              "finishing             0.330079\n",
              "stamina               0.325606\n",
              "aggression            0.322782\n",
              "strength              0.315684\n",
              "heading_accuracy      0.313324\n",
              "jumping               0.258978\n",
              "sprint_speed          0.253048\n",
              "interceptions         0.249094\n",
              "acceleration          0.243998\n",
              "agility               0.239963\n",
              "standing_tackle       0.163986\n",
              "balance               0.160211\n",
              "marking               0.132185\n",
              "sliding_tackle        0.128054\n",
              "gk_kicking            0.028799\n",
              "gk_diving             0.027675\n",
              "gk_positioning        0.008029\n",
              "gk_reflexes           0.007804\n",
              "gk_handling           0.006717\n",
              "player_fifa_api_id   -0.278703\n",
              "player_api_id        -0.328315\n",
              "Name: overall_rating, dtype: float64"
            ]
          },
          "metadata": {},
          "execution_count": 13
        }
      ]
    },
    {
      "cell_type": "code",
      "source": [
        "data = data.select_dtypes(include='number')\n",
        "X = data.drop(['overall_rating', 'potential'], axis=1)\n",
        "y = data['overall_rating']"
      ],
      "metadata": {
        "id": "eSknqDFdRKpH"
      },
      "execution_count": 14,
      "outputs": []
    },
    {
      "cell_type": "markdown",
      "source": [
        "### Step 3.b: Divide into test and train\n",
        "- We do this to test the accuracy of our model\n",
        "- The idea is: We train on one dataset, then test on another to see how it performs\n",
        "- To split dataset use\n",
        "```Python\n",
        "X_train, X_test, y_train, y_test = train_test_split(X, y, random_state=42)\n",
        "```\n",
        "- The `random_state=42` is used for reproducability"
      ],
      "metadata": {
        "id": "GYZibDlf3sXF"
      }
    },
    {
      "cell_type": "code",
      "source": [
        "X_train, X_test, y_train, y_test = train_test_split(X, y, random_state=42)"
      ],
      "metadata": {
        "id": "33aUntD9RUkE"
      },
      "execution_count": 15,
      "outputs": []
    },
    {
      "cell_type": "markdown",
      "source": [
        "### Step 3.c: Train the model\n",
        "- Create a Linear Regression instance and fit it.\n",
        "- HINT: Do this on train data (`X_train` and `y_train`)"
      ],
      "metadata": {
        "id": "TkW4tMYr3scj"
      }
    },
    {
      "cell_type": "code",
      "source": [
        "lin = LinearRegression()\n",
        "lin.fit(X_train, y_train)"
      ],
      "metadata": {
        "colab": {
          "base_uri": "https://localhost:8080/"
        },
        "id": "iR7lxU7qRfmG",
        "outputId": "cc13af0c-9324-45d7-ca29-259326ee2cb2"
      },
      "execution_count": 16,
      "outputs": [
        {
          "output_type": "execute_result",
          "data": {
            "text/plain": [
              "LinearRegression()"
            ]
          },
          "metadata": {},
          "execution_count": 16
        }
      ]
    },
    {
      "cell_type": "markdown",
      "source": [
        "### Step 3.d: Predict on test data\n",
        "- Here we make predictions\n",
        "- HINT: Use your model to predict `.predict(X_test)` and assign the result to `y_pred`"
      ],
      "metadata": {
        "id": "ujom_NXG3sl8"
      }
    },
    {
      "cell_type": "code",
      "source": [
        "y_pred = lin.predict(X_test)"
      ],
      "metadata": {
        "id": "rExJglZaRiqS"
      },
      "execution_count": 17,
      "outputs": []
    },
    {
      "cell_type": "markdown",
      "source": [
        "### Step 3.e: Evaluate the model\n",
        "- Apply r-squared on the predicted results and the real results\n",
        "- HINT: Use `r2_score` on `y_pred` and `y_test`"
      ],
      "metadata": {
        "id": "4T5xoQIo3c7P"
      }
    },
    {
      "cell_type": "code",
      "source": [
        "r2_score(y_test, y_pred)"
      ],
      "metadata": {
        "colab": {
          "base_uri": "https://localhost:8080/"
        },
        "id": "N6UdMC4qRucZ",
        "outputId": "980b7e62-9f60-4115-d206-5406b4a4f76f"
      },
      "execution_count": 18,
      "outputs": [
        {
          "output_type": "execute_result",
          "data": {
            "text/plain": [
              "0.7883915544905804"
            ]
          },
          "metadata": {},
          "execution_count": 18
        }
      ]
    },
    {
      "cell_type": "markdown",
      "source": [
        "## Step 4: Report\n",
        "- Present findings\n",
        "- Visualize results\n",
        "- Credibility counts"
      ],
      "metadata": {
        "id": "nh_spH0837D9"
      }
    },
    {
      "cell_type": "code",
      "source": [
        "plt.plot(y_pred)"
      ],
      "metadata": {
        "colab": {
          "base_uri": "https://localhost:8080/",
          "height": 282
        },
        "id": "Tx6XDxwISTIx",
        "outputId": "6c823c0a-b9d4-4c66-c369-fa01119e9662"
      },
      "execution_count": 25,
      "outputs": [
        {
          "output_type": "execute_result",
          "data": {
            "text/plain": [
              "[<matplotlib.lines.Line2D at 0x7f8b680ec990>]"
            ]
          },
          "metadata": {},
          "execution_count": 25
        },
        {
          "output_type": "display_data",
          "data": {
            "text/plain": [
              "<Figure size 432x288 with 1 Axes>"
            ],
            "image/png": "[encoded data removed]"
          },
          "metadata": {
            "needs_background": "light"
          }
        }
      ]
    },
    {
      "cell_type": "markdown",
      "source": [
        "### Step 4.a: Present finding\n",
        "- This is more a practice of creating a model\n",
        "- But feel free to be creative\n",
        "- An option could be to investigate the best indicator of a player"
      ],
      "metadata": {
        "id": "vFW1KnLq3_NS"
      }
    },
    {
      "cell_type": "markdown",
      "source": [
        "## Step 5: Actions\n",
        "- Use insights\n",
        "- Measure impact\n",
        "- Main goal"
      ],
      "metadata": {
        "id": "R8iJnSDt3_Q2"
      }
    },
    {
      "cell_type": "code",
      "source": [
        ""
      ],
      "metadata": {
        "id": "YoeZNBpW20mV"
      },
      "execution_count": null,
      "outputs": []
    }
  ]
}